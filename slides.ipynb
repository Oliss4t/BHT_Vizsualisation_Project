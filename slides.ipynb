{
 "cells": [
  {
   "cell_type": "markdown",
   "metadata": {
    "slideshow": {
     "slide_type": "slide"
    },
    "tags": []
   },
   "source": [
    "# Data Visualisation - Happiness\n",
    "\n",
    "Conor Fallon and Tassilo Henninger\n",
    "\n"
   ]
  },
  {
   "cell_type": "markdown",
   "metadata": {
    "slideshow": {
     "slide_type": "slide"
    }
   },
   "source": [
    "# Overview\n",
    "\n",
    "- Data Acquisition\n",
    " - public data APIs\n",
    " - web data scraping\n",
    "- Data Exploration\n",
    " - plotting\n",
    " - interactive dashboards"
   ]
  },
  {
   "cell_type": "markdown",
   "metadata": {
    "slideshow": {
     "slide_type": "slide"
    }
   },
   "source": [
    "# Public Data APIs\n",
    "\n",
    "Often data for a given task can be found in public data sources\n",
    "\n",
    "- https://daten.berlin.de/\n",
    "- https://www.kaggle.com/datasets\n",
    "- https://datasetsearch.research.google.com/"
   ]
  },
  {
   "cell_type": "code",
   "execution_count": 5,
   "metadata": {
    "slideshow": {
     "slide_type": "skip"
    }
   },
   "outputs": [
    {
     "data": {
      "text/html": [
       "\n",
       "        <iframe\n",
       "            width=\"1600\"\n",
       "            height=\"900\"\n",
       "            src=\".figs/tobacco.html\"\n",
       "            frameborder=\"0\"\n",
       "            allowfullscreen\n",
       "            \n",
       "        ></iframe>\n",
       "        "
      ],
      "text/plain": [
       "<IPython.lib.display.IFrame at 0x7fe0bd634be0>"
      ]
     },
     "execution_count": 5,
     "metadata": {},
     "output_type": "execute_result"
    }
   ],
   "source": [
    "from IPython.display import IFrame\n",
    "\n",
    "IFrame(src='.figs/tobacco.html', height = 900, width = 1600)"
   ]
  },
  {
   "cell_type": "code",
   "execution_count": 2,
   "metadata": {
    "slideshow": {
     "slide_type": "fragment"
    }
   },
   "outputs": [
    {
     "data": {
      "text/html": [
       "<div>\n",
       "<style scoped>\n",
       "    .dataframe tbody tr th:only-of-type {\n",
       "        vertical-align: middle;\n",
       "    }\n",
       "\n",
       "    .dataframe tbody tr th {\n",
       "        vertical-align: top;\n",
       "    }\n",
       "\n",
       "    .dataframe thead th {\n",
       "        text-align: right;\n",
       "    }\n",
       "</style>\n",
       "<table border=\"1\" class=\"dataframe\">\n",
       "  <thead>\n",
       "    <tr style=\"text-align: right;\">\n",
       "      <th></th>\n",
       "      <th>pclass</th>\n",
       "      <th>name</th>\n",
       "      <th>sex</th>\n",
       "      <th>age</th>\n",
       "      <th>sibsp</th>\n",
       "      <th>parch</th>\n",
       "      <th>ticket</th>\n",
       "      <th>fare</th>\n",
       "      <th>cabin</th>\n",
       "      <th>embarked</th>\n",
       "      <th>boat</th>\n",
       "      <th>body</th>\n",
       "      <th>home.dest</th>\n",
       "    </tr>\n",
       "  </thead>\n",
       "  <tbody>\n",
       "    <tr>\n",
       "      <th>0</th>\n",
       "      <td>1.0</td>\n",
       "      <td>Allen, Miss. Elisabeth Walton</td>\n",
       "      <td>female</td>\n",
       "      <td>29.0000</td>\n",
       "      <td>0.0</td>\n",
       "      <td>0.0</td>\n",
       "      <td>24160</td>\n",
       "      <td>211.3375</td>\n",
       "      <td>B5</td>\n",
       "      <td>S</td>\n",
       "      <td>2</td>\n",
       "      <td>NaN</td>\n",
       "      <td>St Louis, MO</td>\n",
       "    </tr>\n",
       "    <tr>\n",
       "      <th>1</th>\n",
       "      <td>1.0</td>\n",
       "      <td>Allison, Master. Hudson Trevor</td>\n",
       "      <td>male</td>\n",
       "      <td>0.9167</td>\n",
       "      <td>1.0</td>\n",
       "      <td>2.0</td>\n",
       "      <td>113781</td>\n",
       "      <td>151.5500</td>\n",
       "      <td>C22 C26</td>\n",
       "      <td>S</td>\n",
       "      <td>11</td>\n",
       "      <td>NaN</td>\n",
       "      <td>Montreal, PQ / Chesterville, ON</td>\n",
       "    </tr>\n",
       "    <tr>\n",
       "      <th>2</th>\n",
       "      <td>1.0</td>\n",
       "      <td>Allison, Miss. Helen Loraine</td>\n",
       "      <td>female</td>\n",
       "      <td>2.0000</td>\n",
       "      <td>1.0</td>\n",
       "      <td>2.0</td>\n",
       "      <td>113781</td>\n",
       "      <td>151.5500</td>\n",
       "      <td>C22 C26</td>\n",
       "      <td>S</td>\n",
       "      <td>None</td>\n",
       "      <td>NaN</td>\n",
       "      <td>Montreal, PQ / Chesterville, ON</td>\n",
       "    </tr>\n",
       "    <tr>\n",
       "      <th>3</th>\n",
       "      <td>1.0</td>\n",
       "      <td>Allison, Mr. Hudson Joshua Creighton</td>\n",
       "      <td>male</td>\n",
       "      <td>30.0000</td>\n",
       "      <td>1.0</td>\n",
       "      <td>2.0</td>\n",
       "      <td>113781</td>\n",
       "      <td>151.5500</td>\n",
       "      <td>C22 C26</td>\n",
       "      <td>S</td>\n",
       "      <td>None</td>\n",
       "      <td>135.0</td>\n",
       "      <td>Montreal, PQ / Chesterville, ON</td>\n",
       "    </tr>\n",
       "    <tr>\n",
       "      <th>4</th>\n",
       "      <td>1.0</td>\n",
       "      <td>Allison, Mrs. Hudson J C (Bessie Waldo Daniels)</td>\n",
       "      <td>female</td>\n",
       "      <td>25.0000</td>\n",
       "      <td>1.0</td>\n",
       "      <td>2.0</td>\n",
       "      <td>113781</td>\n",
       "      <td>151.5500</td>\n",
       "      <td>C22 C26</td>\n",
       "      <td>S</td>\n",
       "      <td>None</td>\n",
       "      <td>NaN</td>\n",
       "      <td>Montreal, PQ / Chesterville, ON</td>\n",
       "    </tr>\n",
       "    <tr>\n",
       "      <th>...</th>\n",
       "      <td>...</td>\n",
       "      <td>...</td>\n",
       "      <td>...</td>\n",
       "      <td>...</td>\n",
       "      <td>...</td>\n",
       "      <td>...</td>\n",
       "      <td>...</td>\n",
       "      <td>...</td>\n",
       "      <td>...</td>\n",
       "      <td>...</td>\n",
       "      <td>...</td>\n",
       "      <td>...</td>\n",
       "      <td>...</td>\n",
       "    </tr>\n",
       "    <tr>\n",
       "      <th>1304</th>\n",
       "      <td>3.0</td>\n",
       "      <td>Zabour, Miss. Hileni</td>\n",
       "      <td>female</td>\n",
       "      <td>14.5000</td>\n",
       "      <td>1.0</td>\n",
       "      <td>0.0</td>\n",
       "      <td>2665</td>\n",
       "      <td>14.4542</td>\n",
       "      <td>None</td>\n",
       "      <td>C</td>\n",
       "      <td>None</td>\n",
       "      <td>328.0</td>\n",
       "      <td>None</td>\n",
       "    </tr>\n",
       "    <tr>\n",
       "      <th>1305</th>\n",
       "      <td>3.0</td>\n",
       "      <td>Zabour, Miss. Thamine</td>\n",
       "      <td>female</td>\n",
       "      <td>NaN</td>\n",
       "      <td>1.0</td>\n",
       "      <td>0.0</td>\n",
       "      <td>2665</td>\n",
       "      <td>14.4542</td>\n",
       "      <td>None</td>\n",
       "      <td>C</td>\n",
       "      <td>None</td>\n",
       "      <td>NaN</td>\n",
       "      <td>None</td>\n",
       "    </tr>\n",
       "    <tr>\n",
       "      <th>1306</th>\n",
       "      <td>3.0</td>\n",
       "      <td>Zakarian, Mr. Mapriededer</td>\n",
       "      <td>male</td>\n",
       "      <td>26.5000</td>\n",
       "      <td>0.0</td>\n",
       "      <td>0.0</td>\n",
       "      <td>2656</td>\n",
       "      <td>7.2250</td>\n",
       "      <td>None</td>\n",
       "      <td>C</td>\n",
       "      <td>None</td>\n",
       "      <td>304.0</td>\n",
       "      <td>None</td>\n",
       "    </tr>\n",
       "    <tr>\n",
       "      <th>1307</th>\n",
       "      <td>3.0</td>\n",
       "      <td>Zakarian, Mr. Ortin</td>\n",
       "      <td>male</td>\n",
       "      <td>27.0000</td>\n",
       "      <td>0.0</td>\n",
       "      <td>0.0</td>\n",
       "      <td>2670</td>\n",
       "      <td>7.2250</td>\n",
       "      <td>None</td>\n",
       "      <td>C</td>\n",
       "      <td>None</td>\n",
       "      <td>NaN</td>\n",
       "      <td>None</td>\n",
       "    </tr>\n",
       "    <tr>\n",
       "      <th>1308</th>\n",
       "      <td>3.0</td>\n",
       "      <td>Zimmerman, Mr. Leo</td>\n",
       "      <td>male</td>\n",
       "      <td>29.0000</td>\n",
       "      <td>0.0</td>\n",
       "      <td>0.0</td>\n",
       "      <td>315082</td>\n",
       "      <td>7.8750</td>\n",
       "      <td>None</td>\n",
       "      <td>S</td>\n",
       "      <td>None</td>\n",
       "      <td>NaN</td>\n",
       "      <td>None</td>\n",
       "    </tr>\n",
       "  </tbody>\n",
       "</table>\n",
       "<p>1309 rows × 13 columns</p>\n",
       "</div>"
      ],
      "text/plain": [
       "      pclass                                             name     sex  \\\n",
       "0        1.0                    Allen, Miss. Elisabeth Walton  female   \n",
       "1        1.0                   Allison, Master. Hudson Trevor    male   \n",
       "2        1.0                     Allison, Miss. Helen Loraine  female   \n",
       "3        1.0             Allison, Mr. Hudson Joshua Creighton    male   \n",
       "4        1.0  Allison, Mrs. Hudson J C (Bessie Waldo Daniels)  female   \n",
       "...      ...                                              ...     ...   \n",
       "1304     3.0                             Zabour, Miss. Hileni  female   \n",
       "1305     3.0                            Zabour, Miss. Thamine  female   \n",
       "1306     3.0                        Zakarian, Mr. Mapriededer    male   \n",
       "1307     3.0                              Zakarian, Mr. Ortin    male   \n",
       "1308     3.0                               Zimmerman, Mr. Leo    male   \n",
       "\n",
       "          age  sibsp  parch  ticket      fare    cabin embarked  boat   body  \\\n",
       "0     29.0000    0.0    0.0   24160  211.3375       B5        S     2    NaN   \n",
       "1      0.9167    1.0    2.0  113781  151.5500  C22 C26        S    11    NaN   \n",
       "2      2.0000    1.0    2.0  113781  151.5500  C22 C26        S  None    NaN   \n",
       "3     30.0000    1.0    2.0  113781  151.5500  C22 C26        S  None  135.0   \n",
       "4     25.0000    1.0    2.0  113781  151.5500  C22 C26        S  None    NaN   \n",
       "...       ...    ...    ...     ...       ...      ...      ...   ...    ...   \n",
       "1304  14.5000    1.0    0.0    2665   14.4542     None        C  None  328.0   \n",
       "1305      NaN    1.0    0.0    2665   14.4542     None        C  None    NaN   \n",
       "1306  26.5000    0.0    0.0    2656    7.2250     None        C  None  304.0   \n",
       "1307  27.0000    0.0    0.0    2670    7.2250     None        C  None    NaN   \n",
       "1308  29.0000    0.0    0.0  315082    7.8750     None        S  None    NaN   \n",
       "\n",
       "                            home.dest  \n",
       "0                        St Louis, MO  \n",
       "1     Montreal, PQ / Chesterville, ON  \n",
       "2     Montreal, PQ / Chesterville, ON  \n",
       "3     Montreal, PQ / Chesterville, ON  \n",
       "4     Montreal, PQ / Chesterville, ON  \n",
       "...                               ...  \n",
       "1304                             None  \n",
       "1305                             None  \n",
       "1306                             None  \n",
       "1307                             None  \n",
       "1308                             None  \n",
       "\n",
       "[1309 rows x 13 columns]"
      ]
     },
     "execution_count": 2,
     "metadata": {},
     "output_type": "execute_result"
    }
   ],
   "source": [
    "from sklearn.datasets import fetch_openml\n",
    "X, y = fetch_openml(\"titanic\", version=1, as_frame=True, return_X_y=True)\n",
    "X"
   ]
  },
  {
   "cell_type": "markdown",
   "metadata": {
    "slideshow": {
     "slide_type": "slide"
    }
   },
   "source": [
    "# Getting Data through Python libraries\n",
    "\n",
    "There are python libraries for all kinds of APIs and data source. \n",
    "\n",
    "Here we just look at one for [newspapers](https://github.com/codelucas/newspaper)"
   ]
  },
  {
   "cell_type": "code",
   "execution_count": 4,
   "metadata": {
    "slideshow": {
     "slide_type": "fragment"
    }
   },
   "outputs": [],
   "source": [
    "from newspaper import Article\n",
    "article = Article('https://www.kildarestreet.com/debates/?id=2022-06-01a.68')\n",
    "article.download()\n",
    "article.parse()"
   ]
  },
  {
   "cell_type": "markdown",
   "metadata": {
    "slideshow": {
     "slide_type": "slide"
    }
   },
   "source": [
    "With a language independent interface, we can now extract things like title, authors or text"
   ]
  },
  {
   "cell_type": "code",
   "execution_count": 5,
   "metadata": {
    "slideshow": {
     "slide_type": "fragment"
    }
   },
   "outputs": [
    {
     "data": {
      "text/plain": [
       "'Ceisteanna ó Cheannairí -...: 1 Jun 2022: Dáil debates (KildareStreet.com)'"
      ]
     },
     "execution_count": 5,
     "metadata": {},
     "output_type": "execute_result"
    }
   ],
   "source": [
    "article.title"
   ]
  },
  {
   "cell_type": "code",
   "execution_count": 7,
   "metadata": {
    "slideshow": {
     "slide_type": "fragment"
    }
   },
   "outputs": [
    {
     "data": {
      "text/plain": [
       "[]"
      ]
     },
     "execution_count": 7,
     "metadata": {},
     "output_type": "execute_result"
    }
   ],
   "source": [
    "article.authors"
   ]
  },
  {
   "cell_type": "code",
   "execution_count": 8,
   "metadata": {
    "slideshow": {
     "slide_type": "fragment"
    }
   },
   "outputs": [
    {
     "data": {
      "text/plain": [
       "'Pearse Doherty (Donegal, Sinn Fein)\\n\\nLink to this: Individually | In context\\n\\nNíl dabht ar bith ach go bhfuil an ghéarchéim sa chostas maireachtála ag tiomáint níos mó agus níos mó teaghlaigh go dtí pointe na bochtaineachta, agus nár oibrigh an méid atá déanta ag an Rialtas go dtí seo. Tá rudaí ag dul ó olc go holc agus tá daoine ag streachailt chun íoc as earraí riachtanacha. Tá sé in am do cháinaisnéis éigeandála, a chuirfidh airgead ar ais i bpócaí gnáthdhaoine na tíre seo. The soaring cost of living now has many workers and families at breaking point. On radio this morning we heard testimonies from people who face heartbreaking choices to make it to the end of the week. We heard about families having to go without breakfast, children going without cereal. We heard of a mother talk of her child, saying he has a hole in his shoe and having to tell him he will have to wait for another pair. Parents spoke of the pressure they feel when their children come home and tell them they are going on a school tour. A child going on a school tour should not be a household crisis, but it is for too many. But this is now the hard experience of so many people. The cost of living crisis is pushing more and more people to the edge of poverty. Food poverty is now a feature of life for an ever-growing number of children. The growing need for foodbanks is a stark testament to this reality right across the State. A foodbank in the midlands is now feeding up to 5,000 people and it expects that figure to rise to 15,000 over the next period. Those who never thought they would need such help are now standing in queues waiting to be fed by charities. People are working long hours, and the soaring costs mean that they simply cannot get by. It is soul-destroying. As families keep an eye to every euro they spend, yesterday the Taoiseach told them to prepare for a rocky road ahead, to be ready for a new era of high fuel and energy costs. This is astonishing because workers and families have been walking the rocky road of extortionate fuel and energy costs for the best part of a year now. To tell people, as he did, who are already struggling to pay their bills that they will have to tighten their belts even further is painfully out of touch, while at the same time ruling out from him as Taoiseach further Government action until October at the very earliest. Does this Government understand the pressure that real families and workers are under right across the State? We are talking about households who have to deal with rip-off rents, food prices that are increasing sharply, big energy bills and childcare fees that cost a second mortgage for many. People cannot catch their breath. They cannot catch a break. Many are having to choose between having lunch or filling the car to go to work, and now prices at the pumps are shooting up once again.\\n\\nThe Government\\'s approach to this crisis has failed. It has been piecemeal, slow and sluggish and its measures have not made a dent in the costs people face. So now is the time for a real and comprehensive plan of action. We need a mini budget right now aimed at getting costs down right across the board. There is room within the public finances for the Government to act, and it is not just me and Sinn Féin saying that. That is also the view of the Irish Fiscal Advisory Council and also the view of the Central Bank, so you need to listen. You need to listen to what families have been saying on \"Morning Ireland\" this morning, families who are coming to all our constituency offices. They are telling you loud and clear, they cannot hang on for another five months. The Taoiseach and his Government need to understand where people are at. They need to do what is necessary and to bring forward a mini budget to deal with this crisis.'"
      ]
     },
     "execution_count": 8,
     "metadata": {},
     "output_type": "execute_result"
    }
   ],
   "source": [
    "article.text"
   ]
  },
  {
   "cell_type": "markdown",
   "metadata": {
    "slideshow": {
     "slide_type": "slide"
    }
   },
   "source": [
    "# Getting tabular data from Wikipedia\n",
    "\n",
    "Let's look at [some population data from Wikipedia](https://en.wikipedia.org/wiki/Berlin_population_statistics)\n"
   ]
  },
  {
   "cell_type": "code",
   "execution_count": 7,
   "metadata": {
    "slideshow": {
     "slide_type": "slide"
    }
   },
   "outputs": [
    {
     "data": {
      "text/html": [
       "<div>\n",
       "<style scoped>\n",
       "    .dataframe tbody tr th:only-of-type {\n",
       "        vertical-align: middle;\n",
       "    }\n",
       "\n",
       "    .dataframe tbody tr th {\n",
       "        vertical-align: top;\n",
       "    }\n",
       "\n",
       "    .dataframe thead th {\n",
       "        text-align: right;\n",
       "    }\n",
       "</style>\n",
       "<table border=\"1\" class=\"dataframe\">\n",
       "  <thead>\n",
       "    <tr style=\"text-align: right;\">\n",
       "      <th></th>\n",
       "      <th>Population 30 September 2010</th>\n",
       "      <th>Area in km²</th>\n",
       "      <th>Largest Non-German ethnic groups</th>\n",
       "    </tr>\n",
       "    <tr>\n",
       "      <th>Borough</th>\n",
       "      <th></th>\n",
       "      <th></th>\n",
       "      <th></th>\n",
       "    </tr>\n",
       "  </thead>\n",
       "  <tbody>\n",
       "    <tr>\n",
       "      <th>Mitte</th>\n",
       "      <td>332100</td>\n",
       "      <td>39.47</td>\n",
       "      <td>Turks, Arabs, Kurds, many Asians, Africans and...</td>\n",
       "    </tr>\n",
       "    <tr>\n",
       "      <th>Friedrichshain-Kreuzberg</th>\n",
       "      <td>268831</td>\n",
       "      <td>20.16</td>\n",
       "      <td>Turks, Arabs, African, Kurds, Chinese</td>\n",
       "    </tr>\n",
       "    <tr>\n",
       "      <th>Pankow</th>\n",
       "      <td>368956</td>\n",
       "      <td>103.01</td>\n",
       "      <td>Poles, Italians, French, Americans, Vietnamese...</td>\n",
       "    </tr>\n",
       "    <tr>\n",
       "      <th>Charlottenburg-Wilmersdorf</th>\n",
       "      <td>320014</td>\n",
       "      <td>64.72</td>\n",
       "      <td>Turks, Africans, Russians, Arabs, others.</td>\n",
       "    </tr>\n",
       "    <tr>\n",
       "      <th>Spandau</th>\n",
       "      <td>225420</td>\n",
       "      <td>91.91</td>\n",
       "      <td>Turks, Africans, Russians, Arabs, others.</td>\n",
       "    </tr>\n",
       "    <tr>\n",
       "      <th>Steglitz-Zehlendorf</th>\n",
       "      <td>293989</td>\n",
       "      <td>102.50</td>\n",
       "      <td>Poles, Turks, Croats, Serbs, Koreans</td>\n",
       "    </tr>\n",
       "    <tr>\n",
       "      <th>Tempelhof-Schöneberg</th>\n",
       "      <td>335060</td>\n",
       "      <td>53.09</td>\n",
       "      <td>Turks, Croats, Serbs, Koreans, Africans</td>\n",
       "    </tr>\n",
       "    <tr>\n",
       "      <th>Neukölln</th>\n",
       "      <td>310283</td>\n",
       "      <td>44.93</td>\n",
       "      <td>Arabs, Turks, Kurds, Russians, Africans, Poles</td>\n",
       "    </tr>\n",
       "    <tr>\n",
       "      <th>Treptow-Köpenick</th>\n",
       "      <td>241335</td>\n",
       "      <td>168.42</td>\n",
       "      <td>Russians, Poles, Ukrainians, Vietnamese</td>\n",
       "    </tr>\n",
       "    <tr>\n",
       "      <th>Marzahn-Hellersdorf</th>\n",
       "      <td>248264</td>\n",
       "      <td>61.74</td>\n",
       "      <td>Russians, Vietnamese, several other Eastern Eu...</td>\n",
       "    </tr>\n",
       "    <tr>\n",
       "      <th>Lichtenberg</th>\n",
       "      <td>259881</td>\n",
       "      <td>52.29</td>\n",
       "      <td>Vietnamese, Russians, Ukrainians, Poles, Chinese</td>\n",
       "    </tr>\n",
       "  </tbody>\n",
       "</table>\n",
       "</div>"
      ],
      "text/plain": [
       "                            Population 30 September 2010  Area in km²  \\\n",
       "Borough                                                                 \n",
       "Mitte                                             332100        39.47   \n",
       "Friedrichshain-Kreuzberg                          268831        20.16   \n",
       "Pankow                                            368956       103.01   \n",
       "Charlottenburg-Wilmersdorf                        320014        64.72   \n",
       "Spandau                                           225420        91.91   \n",
       "Steglitz-Zehlendorf                               293989       102.50   \n",
       "Tempelhof-Schöneberg                              335060        53.09   \n",
       "Neukölln                                          310283        44.93   \n",
       "Treptow-Köpenick                                  241335       168.42   \n",
       "Marzahn-Hellersdorf                               248264        61.74   \n",
       "Lichtenberg                                       259881        52.29   \n",
       "\n",
       "                                             Largest Non-German ethnic groups  \n",
       "Borough                                                                        \n",
       "Mitte                       Turks, Arabs, Kurds, many Asians, Africans and...  \n",
       "Friedrichshain-Kreuzberg                Turks, Arabs, African, Kurds, Chinese  \n",
       "Pankow                      Poles, Italians, French, Americans, Vietnamese...  \n",
       "Charlottenburg-Wilmersdorf          Turks, Africans, Russians, Arabs, others.  \n",
       "Spandau                             Turks, Africans, Russians, Arabs, others.  \n",
       "Steglitz-Zehlendorf                      Poles, Turks, Croats, Serbs, Koreans  \n",
       "Tempelhof-Schöneberg                  Turks, Croats, Serbs, Koreans, Africans  \n",
       "Neukölln                       Arabs, Turks, Kurds, Russians, Africans, Poles  \n",
       "Treptow-Köpenick                      Russians, Poles, Ukrainians, Vietnamese  \n",
       "Marzahn-Hellersdorf         Russians, Vietnamese, several other Eastern Eu...  \n",
       "Lichtenberg                  Vietnamese, Russians, Ukrainians, Poles, Chinese  "
      ]
     },
     "execution_count": 7,
     "metadata": {},
     "output_type": "execute_result"
    }
   ],
   "source": [
    "berlin_population = pd.read_html(\n",
    "    \"https://en.wikipedia.org/wiki/Berlin_population_statistics\", header=0)\n",
    "df_berlin_population = berlin_population[0][:11].set_index('Borough')\n",
    "df_berlin_population"
   ]
  },
  {
   "cell_type": "code",
   "execution_count": 8,
   "metadata": {
    "scrolled": true,
    "slideshow": {
     "slide_type": "slide"
    }
   },
   "outputs": [
    {
     "data": {
      "image/png": "[encoded data removed]",
      "text/plain": [
       "<Figure size 432x288 with 1 Axes>"
      ]
     },
     "metadata": {
      "needs_background": "light"
     },
     "output_type": "display_data"
    }
   ],
   "source": [
    "%matplotlib inline\n",
    "# concatenate all tables on population statistics\n",
    "overall_population = pd.concat(berlin_population[2:5])\n",
    "# extract the years\n",
    "overall_population.Year = overall_population.Year.str.extract('(\\d{4})', expand=False)\n",
    "# set the index to the year column, so plotting is nicer\n",
    "overall_population = overall_population.set_index(\"Year\")\n",
    "overall_population.plot();"
   ]
  },
  {
   "cell_type": "markdown",
   "metadata": {
    "slideshow": {
     "slide_type": "slide"
    }
   },
   "source": [
    "# Getting tabular data from web pages with ``pandas``\n",
    "\n",
    "- Birth statistics from [Berlin data portal](https://daten.berlin.de/datensaetze)\n",
    "- [https://en.wikipedia.org/wiki/Berlin_population_statistics](https://en.wikipedia.org/wiki/Berlin_population_statistics)\n"
   ]
  },
  {
   "cell_type": "markdown",
   "metadata": {
    "slideshow": {
     "slide_type": "slide"
    }
   },
   "source": [
    "## Birth statistics of Berlin\n",
    "\n",
    "Birth statistics can be obtained through the [Berlin data portal](https://daten.berlin.de/datensaetze)\n",
    "\n",
    "E.g. [https://www.berlin.de/daten/liste-der-vornamen-2014/charlottenburg-wilmersdorf.csv](https://www.berlin.de/daten/liste-der-vornamen-2014/charlottenburg-wilmersdorf.csv)\n",
    "\n",
    "```\n",
    "vorname;anzahl;geschlecht\n",
    "Marie;118;w\n",
    "Sophie;92;w\n",
    "Charlotte;76;w\n",
    "Maria;73;w\n",
    "Maximilian;66;m\n",
    "Alexander;53;m\n",
    "Emilia;52;w\n",
    "```\n"
   ]
  },
  {
   "cell_type": "code",
   "execution_count": 9,
   "metadata": {
    "slideshow": {
     "slide_type": "slide"
    }
   },
   "outputs": [],
   "source": [
    "basedir = os.path.join(\"data\",\"vornamen\")\n",
    "os.makedirs(basedir, exist_ok=True)\n",
    "\n",
    "base_url = \"https://www.berlin.de/daten/liste-der-vornamen-{}/{}.csv\"\n",
    "\n",
    "boroughs = [\n",
    "\"charlottenburg-wilmersdorf\",\n",
    "\"friedrichshain-kreuzberg\",\n",
    "\"lichtenberg\",\n",
    "\"marzahn-hellersdorf\",\n",
    "\"mitte\",\n",
    "\"neukoelln\",\n",
    "\"pankow\",\n",
    "\"reinickendorf\",\n",
    "\"spandau\",\n",
    "\"steglitz-zehlendorf\",\n",
    "\"tempelhof-schoeneberg\",\n",
    "\"treptow-koepenick\"\n",
    "]\n",
    "\n",
    "years = range(2013,2018)"
   ]
  },
  {
   "cell_type": "code",
   "execution_count": 10,
   "metadata": {
    "slideshow": {
     "slide_type": "slide"
    }
   },
   "outputs": [],
   "source": [
    "# download all name files from Berlin open data portal\n",
    "all_names = []\n",
    "\n",
    "for borough in boroughs:\n",
    "    for year in years:\n",
    "        try:\n",
    "            url = base_url.format(year, borough)\n",
    "            filename = os.path.join(basedir, \"{}-{}.csv\".format(year,borough))\n",
    "            urllib.request.urlretrieve(url, filename)\n",
    "            df_vornamen_stadtteil = pd.read_csv(filename,sep=';',error_bad_lines=False)\n",
    "            df_vornamen_stadtteil['borough'] = borough\n",
    "            df_vornamen_stadtteil['year'] = year\n",
    "            all_names.append(df_vornamen_stadtteil)\n",
    "        except:\n",
    "            print(\"File {} not found\".format(url))\n",
    "\n",
    "# concatenate DataFrames\n",
    "all_names_df = pd.concat(all_names, sort=True)"
   ]
  },
  {
   "cell_type": "code",
   "execution_count": 11,
   "metadata": {
    "scrolled": true,
    "slideshow": {
     "slide_type": "slide"
    }
   },
   "outputs": [
    {
     "data": {
      "text/html": [
       "<div>\n",
       "<style scoped>\n",
       "    .dataframe tbody tr th:only-of-type {\n",
       "        vertical-align: middle;\n",
       "    }\n",
       "\n",
       "    .dataframe tbody tr th {\n",
       "        vertical-align: top;\n",
       "    }\n",
       "\n",
       "    .dataframe thead th {\n",
       "        text-align: right;\n",
       "    }\n",
       "</style>\n",
       "<table border=\"1\" class=\"dataframe\">\n",
       "  <thead>\n",
       "    <tr style=\"text-align: right;\">\n",
       "      <th></th>\n",
       "      <th>anzahl</th>\n",
       "      <th>borough</th>\n",
       "      <th>geschlecht</th>\n",
       "      <th>position</th>\n",
       "      <th>vorname</th>\n",
       "      <th>year</th>\n",
       "    </tr>\n",
       "  </thead>\n",
       "  <tbody>\n",
       "    <tr>\n",
       "      <th>2837</th>\n",
       "      <td>1</td>\n",
       "      <td>tempelhof-schoeneberg</td>\n",
       "      <td>w</td>\n",
       "      <td>NaN</td>\n",
       "      <td>Rehaf</td>\n",
       "      <td>2014</td>\n",
       "    </tr>\n",
       "    <tr>\n",
       "      <th>1393</th>\n",
       "      <td>1</td>\n",
       "      <td>lichtenberg</td>\n",
       "      <td>m</td>\n",
       "      <td>2.0</td>\n",
       "      <td>Riccardo</td>\n",
       "      <td>2017</td>\n",
       "    </tr>\n",
       "    <tr>\n",
       "      <th>1117</th>\n",
       "      <td>1</td>\n",
       "      <td>mitte</td>\n",
       "      <td>w</td>\n",
       "      <td>NaN</td>\n",
       "      <td>Aimee</td>\n",
       "      <td>2015</td>\n",
       "    </tr>\n",
       "    <tr>\n",
       "      <th>2789</th>\n",
       "      <td>1</td>\n",
       "      <td>charlottenburg-wilmersdorf</td>\n",
       "      <td>w</td>\n",
       "      <td>NaN</td>\n",
       "      <td>Rika</td>\n",
       "      <td>2013</td>\n",
       "    </tr>\n",
       "    <tr>\n",
       "      <th>712</th>\n",
       "      <td>1</td>\n",
       "      <td>marzahn-hellersdorf</td>\n",
       "      <td>m</td>\n",
       "      <td>2.0</td>\n",
       "      <td>Volker</td>\n",
       "      <td>2017</td>\n",
       "    </tr>\n",
       "    <tr>\n",
       "      <th>691</th>\n",
       "      <td>1</td>\n",
       "      <td>marzahn-hellersdorf</td>\n",
       "      <td>w</td>\n",
       "      <td>NaN</td>\n",
       "      <td>Marlott</td>\n",
       "      <td>2014</td>\n",
       "    </tr>\n",
       "    <tr>\n",
       "      <th>3060</th>\n",
       "      <td>1</td>\n",
       "      <td>charlottenburg-wilmersdorf</td>\n",
       "      <td>m</td>\n",
       "      <td>NaN</td>\n",
       "      <td>Sanjay</td>\n",
       "      <td>2015</td>\n",
       "    </tr>\n",
       "    <tr>\n",
       "      <th>740</th>\n",
       "      <td>1</td>\n",
       "      <td>treptow-koepenick</td>\n",
       "      <td>m</td>\n",
       "      <td>NaN</td>\n",
       "      <td>Len</td>\n",
       "      <td>2016</td>\n",
       "    </tr>\n",
       "    <tr>\n",
       "      <th>3564</th>\n",
       "      <td>1</td>\n",
       "      <td>tempelhof-schoeneberg</td>\n",
       "      <td>w</td>\n",
       "      <td>1.0</td>\n",
       "      <td>Hyam</td>\n",
       "      <td>2017</td>\n",
       "    </tr>\n",
       "    <tr>\n",
       "      <th>2217</th>\n",
       "      <td>1</td>\n",
       "      <td>mitte</td>\n",
       "      <td>w</td>\n",
       "      <td>NaN</td>\n",
       "      <td>Iwinosa</td>\n",
       "      <td>2016</td>\n",
       "    </tr>\n",
       "  </tbody>\n",
       "</table>\n",
       "</div>"
      ],
      "text/plain": [
       "      anzahl                     borough geschlecht  position   vorname  year\n",
       "2837       1       tempelhof-schoeneberg          w       NaN     Rehaf  2014\n",
       "1393       1                 lichtenberg          m       2.0  Riccardo  2017\n",
       "1117       1                       mitte          w       NaN     Aimee  2015\n",
       "2789       1  charlottenburg-wilmersdorf          w       NaN      Rika  2013\n",
       "712        1         marzahn-hellersdorf          m       2.0    Volker  2017\n",
       "691        1         marzahn-hellersdorf          w       NaN   Marlott  2014\n",
       "3060       1  charlottenburg-wilmersdorf          m       NaN    Sanjay  2015\n",
       "740        1           treptow-koepenick          m       NaN       Len  2016\n",
       "3564       1       tempelhof-schoeneberg          w       1.0      Hyam  2017\n",
       "2217       1                       mitte          w       NaN   Iwinosa  2016"
      ]
     },
     "execution_count": 11,
     "metadata": {},
     "output_type": "execute_result"
    }
   ],
   "source": [
    "all_names_df.sample(n=10)"
   ]
  },
  {
   "cell_type": "markdown",
   "metadata": {
    "slideshow": {
     "slide_type": "slide"
    }
   },
   "source": [
    "# Beautiful Soup for Web Scraping\n",
    "\n",
    "- HTML pages are often not well structured\n",
    "- [Beautiful Soup](https://www.crummy.com/software/BeautifulSoup/)\n",
    "    - tidies up dirty HTML\n",
    "    - allows for convenient parsing of HTML\n"
   ]
  },
  {
   "cell_type": "markdown",
   "metadata": {
    "slideshow": {
     "slide_type": "slide"
    }
   },
   "source": [
    "## A Simple Webpage\n",
    "\n"
   ]
  },
  {
   "cell_type": "code",
   "execution_count": 12,
   "metadata": {
    "slideshow": {
     "slide_type": "fragment"
    }
   },
   "outputs": [],
   "source": [
    "a_simple_webpage = \\\n",
    "\"\"\"<html>\n",
    "    <head>\n",
    "    </head>\n",
    "    <body>\n",
    "        <p>\n",
    "            A paragraph\n",
    "        </p>\n",
    "        <p id=\"second_paragraph\">\n",
    "           Another paragraph with a <a href=\"https://de.wikipedia.org/wiki/Beuth_(Lokomotive)\">link</a>\n",
    "        </p>\n",
    "    </body>\n",
    "</html>\"\"\""
   ]
  },
  {
   "cell_type": "code",
   "execution_count": 13,
   "metadata": {
    "slideshow": {
     "slide_type": "slide"
    }
   },
   "outputs": [],
   "source": [
    "from bs4 import BeautifulSoup\n",
    "soup = BeautifulSoup(a_simple_webpage, 'html.parser')"
   ]
  },
  {
   "cell_type": "code",
   "execution_count": 14,
   "metadata": {
    "slideshow": {
     "slide_type": "fragment"
    }
   },
   "outputs": [
    {
     "data": {
      "text/plain": [
       "[<html>\n",
       " <head>\n",
       " </head>\n",
       " <body>\n",
       " <p>\n",
       "             A paragraph\n",
       "         </p>\n",
       " <p id=\"second_paragraph\">\n",
       "            Another paragraph with a <a href=\"https://de.wikipedia.org/wiki/Beuth_(Lokomotive)\">link</a>\n",
       " </p>\n",
       " </body>\n",
       " </html>]"
      ]
     },
     "execution_count": 14,
     "metadata": {},
     "output_type": "execute_result"
    }
   ],
   "source": [
    "list(soup.children)\n"
   ]
  },
  {
   "cell_type": "markdown",
   "metadata": {
    "slideshow": {
     "slide_type": "slide"
    }
   },
   "source": [
    "### Extracting Texts"
   ]
  },
  {
   "cell_type": "code",
   "execution_count": 15,
   "metadata": {
    "slideshow": {
     "slide_type": "fragment"
    }
   },
   "outputs": [
    {
     "data": {
      "text/plain": [
       "[<p>\n",
       "             A paragraph\n",
       "         </p>,\n",
       " <p id=\"second_paragraph\">\n",
       "            Another paragraph with a <a href=\"https://de.wikipedia.org/wiki/Beuth_(Lokomotive)\">link</a>\n",
       " </p>]"
      ]
     },
     "execution_count": 15,
     "metadata": {},
     "output_type": "execute_result"
    }
   ],
   "source": [
    "paragraphs = soup.find_all('p')\n",
    "paragraphs"
   ]
  },
  {
   "cell_type": "code",
   "execution_count": 16,
   "metadata": {
    "slideshow": {
     "slide_type": "fragment"
    }
   },
   "outputs": [
    {
     "data": {
      "text/plain": [
       "['A paragraph', 'Another paragraph with a link']"
      ]
     },
     "execution_count": 16,
     "metadata": {},
     "output_type": "execute_result"
    }
   ],
   "source": [
    "[p.get_text().strip() for p in paragraphs]"
   ]
  },
  {
   "cell_type": "markdown",
   "metadata": {
    "slideshow": {
     "slide_type": "slide"
    }
   },
   "source": [
    "### Extracting Links"
   ]
  },
  {
   "cell_type": "code",
   "execution_count": 17,
   "metadata": {
    "slideshow": {
     "slide_type": "fragment"
    }
   },
   "outputs": [
    {
     "data": {
      "text/plain": [
       "[<a href=\"https://de.wikipedia.org/wiki/Beuth_(Lokomotive)\">link</a>]"
      ]
     },
     "execution_count": 17,
     "metadata": {},
     "output_type": "execute_result"
    }
   ],
   "source": [
    "links = soup.find_all('a')\n",
    "links"
   ]
  },
  {
   "cell_type": "code",
   "execution_count": 18,
   "metadata": {
    "slideshow": {
     "slide_type": "slide"
    }
   },
   "outputs": [
    {
     "data": {
      "text/plain": [
       "'https://de.wikipedia.org/wiki/Beuth_(Lokomotive)'"
      ]
     },
     "execution_count": 18,
     "metadata": {},
     "output_type": "execute_result"
    }
   ],
   "source": [
    "links[0].get('href')"
   ]
  },
  {
   "cell_type": "markdown",
   "metadata": {
    "slideshow": {
     "slide_type": "slide"
    }
   },
   "source": [
    "### Extracting Arbitrary Elements"
   ]
  },
  {
   "cell_type": "code",
   "execution_count": 19,
   "metadata": {
    "slideshow": {
     "slide_type": "fragment"
    }
   },
   "outputs": [
    {
     "data": {
      "text/plain": [
       "['Another paragraph with a link']"
      ]
     },
     "execution_count": 19,
     "metadata": {},
     "output_type": "execute_result"
    }
   ],
   "source": [
    "[x.get_text().strip() for x in soup.find_all(id=\"second_paragraph\")]"
   ]
  },
  {
   "cell_type": "markdown",
   "metadata": {
    "slideshow": {
     "slide_type": "slide"
    }
   },
   "source": [
    "# Getting Data From REST APIs\n",
    "\n",
    "[Representational State Transfer (REST)](https://en.wikipedia.org/wiki/Representational_state_transfer) is a software architectural style for creating web services\n",
    "\n",
    "RESTful web services allow to access and manipulate web resources through a uniform and predefined set of stateless operations"
   ]
  },
  {
   "cell_type": "markdown",
   "metadata": {
    "slideshow": {
     "slide_type": "slide"
    }
   },
   "source": [
    "## Example: Air Quality Data from AQICN\n",
    "\n",
    "- Air quality is an important topic\n",
    "- You can query recent worldwide air quality data through an API at [http://aqicn.org/](http://aqicn.org/)\n",
    "- For example: \n",
    "    - [Air Quality Data Berlin](https://aqicn.org/city/germany/berlin)\n",
    "    - For accessing the API, get an access token\n",
    "    - then you can query the data for Berlin by requesting (in a browser or in a programmatic fashion)\n",
    "        ``http://api.waqi.info/feed/berlin/?token=[accessToken]``\n",
    "    - e.g. [http://api.waqi.info/feed/berlin/?token=my_access_token](http://api.waqi.info/feed/berlin/?token=7672327f1d6675ef5d2d554b63b6175afec9fe77)\n",
    "\n",
    "\n"
   ]
  },
  {
   "cell_type": "code",
   "execution_count": 20,
   "metadata": {
    "slideshow": {
     "slide_type": "slide"
    }
   },
   "outputs": [
    {
     "data": {
      "text/plain": [
       "{'aqi': 22,\n",
       " 'idx': 6132,\n",
       " 'attributions': [{'url': 'http://www.stadtentwicklung.berlin.de/umwelt/luftqualitaet/',\n",
       "   'name': 'Berlin Air Quality - (Luftqualität in Berlin)',\n",
       "   'logo': 'Germany-Berlin.png'},\n",
       "  {'url': 'https://waqi.info/', 'name': 'World Air Quality Index Project'}],\n",
       " 'city': {'geo': [52.5200066, 13.404954],\n",
       "  'name': 'Berlin, Germany',\n",
       "  'url': 'https://aqicn.org/city/germany/berlin'},\n",
       " 'dominentpol': 'o3',\n",
       " 'iaqi': {'h': {'v': 69.2},\n",
       "  'no2': {'v': 7.8},\n",
       "  'o3': {'v': 22.4},\n",
       "  'p': {'v': 1012.9},\n",
       "  'pm10': {'v': 21},\n",
       "  't': {'v': 19},\n",
       "  'w': {'v': 7.7},\n",
       "  'wg': {'v': 12.2}},\n",
       " 'time': {'s': '2020-06-15 00:00:00', 'tz': '+02:00', 'v': 1592179200},\n",
       " 'debug': {'sync': '2020-06-15T07:35:36+09:00'}}"
      ]
     },
     "execution_count": 20,
     "metadata": {},
     "output_type": "execute_result"
    }
   ],
   "source": [
    "import requests\n",
    "\n",
    "def get_air_quality_data(city, accesstoken='7672327f1d6675ef5d2d554b63b6175afec9fe77'):\n",
    "    # build request\n",
    "    url = 'http://api.waqi.info/feed/'+city+'/?token=' + accesstoken\n",
    "    # get data\n",
    "    r = requests.get(url, auth=('user', 'pass'))\n",
    "    # check status code and return data\n",
    "    if r.status_code == 200:\n",
    "        data = r.json()\n",
    "        return data['data']\n",
    "\n",
    "get_air_quality_data('berlin')"
   ]
  },
  {
   "cell_type": "code",
   "execution_count": 21,
   "metadata": {
    "scrolled": true,
    "slideshow": {
     "slide_type": "slide"
    }
   },
   "outputs": [
    {
     "data": {
      "text/plain": [
       "{'aqi': 12,\n",
       " 'idx': 3309,\n",
       " 'attributions': [{'url': 'http://www.dec.ny.gov/',\n",
       "   'name': 'New York State Department of Environmental Conservation (NYSDEC)',\n",
       "   'logo': 'US-NYDEC.png'},\n",
       "  {'url': 'http://www.airnow.gov/', 'name': 'Air Now - US EPA'},\n",
       "  {'url': 'https://waqi.info/', 'name': 'World Air Quality Index Project'}],\n",
       " 'city': {'geo': [40.7127837, -74.0059413],\n",
       "  'name': 'New York',\n",
       "  'url': 'https://aqicn.org/city/newyork'},\n",
       " 'dominentpol': 'pm25',\n",
       " 'iaqi': {'co': {'v': 1.3},\n",
       "  'h': {'v': 62},\n",
       "  'no2': {'v': 2.5},\n",
       "  'o3': {'v': 15.2},\n",
       "  'p': {'v': 1027.3},\n",
       "  'pm25': {'v': 12},\n",
       "  't': {'v': 20.5},\n",
       "  'w': {'v': 7.6}},\n",
       " 'time': {'s': '2020-06-14 16:00:00', 'tz': '-04:00', 'v': 1592150400},\n",
       " 'debug': {'sync': '2020-06-15T07:18:45+09:00'}}"
      ]
     },
     "execution_count": 21,
     "metadata": {},
     "output_type": "execute_result"
    }
   ],
   "source": [
    "get_air_quality_data('newyork')"
   ]
  },
  {
   "cell_type": "code",
   "execution_count": 22,
   "metadata": {
    "scrolled": true,
    "slideshow": {
     "slide_type": "slide"
    }
   },
   "outputs": [
    {
     "data": {
      "text/plain": [
       "{'aqi': 72,\n",
       " 'idx': 5508,\n",
       " 'attributions': [{'url': 'http://www.airkorea.or.kr/',\n",
       "   'name': 'South Air Korea Environment Corporation (대기오염실시간공개시스템)',\n",
       "   'logo': 'SouthKorea-AirKorea.png'},\n",
       "  {'url': 'https://www.airkorea.or.kr/',\n",
       "   'name': 'South Air Korea Environment Corporation (대기오염실시간공개시스템)',\n",
       "   'logo': 'SouthKorea-AirKorea.png'},\n",
       "  {'url': 'http://cleanair.seoul.go.kr/',\n",
       "   'name': 'Seoul Clean Air Pollution Information (서울특별시 기후대기환경정보)',\n",
       "   'logo': 'SouthKorea-Seoul.png'},\n",
       "  {'url': 'https://waqi.info/', 'name': 'World Air Quality Index Project'}],\n",
       " 'city': {'geo': [37.566535, 126.9779692],\n",
       "  'name': 'Seoul (서울)',\n",
       "  'url': 'https://aqicn.org/city/seoul'},\n",
       " 'dominentpol': 'pm25',\n",
       " 'iaqi': {'co': {'v': 4.5},\n",
       "  'h': {'v': 84},\n",
       "  'no2': {'v': 13},\n",
       "  'o3': {'v': 32},\n",
       "  'p': {'v': 1007.4},\n",
       "  'pm10': {'v': 29},\n",
       "  'pm25': {'v': 72},\n",
       "  'r': {'v': 0.2},\n",
       "  'so2': {'v': 4.3},\n",
       "  't': {'v': 18.7},\n",
       "  'w': {'v': 2},\n",
       "  'wd': {'v': 202.5}},\n",
       " 'time': {'s': '2020-06-15 07:00:00', 'tz': '+09:00', 'v': 1592204400},\n",
       " 'debug': {'sync': '2020-06-15T07:41:52+09:00'}}"
      ]
     },
     "execution_count": 22,
     "metadata": {},
     "output_type": "execute_result"
    }
   ],
   "source": [
    "get_air_quality_data('seoul')"
   ]
  },
  {
   "cell_type": "markdown",
   "metadata": {
    "slideshow": {
     "slide_type": "slide"
    }
   },
   "source": [
    "# The Problem with Open Data: Accessibility\n",
    "\n",
    "- Many great open data efforts\n",
    "- Berlin is pushing this topic\n",
    "- But often, even though data is theoretically open, it is hard to obtain:\n",
    " - Only available in unstructured form (pdfs)\n",
    " - Not available in sufficient detail or quality\n",
    " "
   ]
  },
  {
   "cell_type": "markdown",
   "metadata": {
    "slideshow": {
     "slide_type": "slide"
    }
   },
   "source": [
    "## Example: Parliament Speech Protocols\n",
    "\n",
    "- The German parliament, Bundestag, has an [open data initiative](https://www.bundestag.de/services/opendata)\n",
    "- It also provides protocols of all speeches\n",
    "- These are publicly available and in excellent formatting as of recently\n",
    "- But downloading them in batch is not supported"
   ]
  },
  {
   "cell_type": "markdown",
   "metadata": {
    "slideshow": {
     "slide_type": "slide"
    }
   },
   "source": [
    "### Automating download of all xml files\n",
    "- open browser's developer tools\n",
    "- inspect elements of xml file links to find relevant urls\n",
    "\n",
    "``\n",
    "<a title=\"XML | 502 KB\" class=\"bt-link-dokument\" href=\"/resource/blob/683006/ac5b8dca730977167d9d2b671fc966f6/19147-data.xml\" ...\n",
    "``\n",
    "\n",
    "- inspect network tab when clicking next page\n",
    "- inspect structure of ajax call: \n",
    "\n",
    "```https://www.bundestag.de/ajax/filterlist/de/services/opendata/543410-543410/h_49f0d94cb26682ff1e9428b6de471a5b?limit=10&noFilterSet=true&offset=10```\n",
    "\n",
    "... looks like one could just change the offset to go to the next set of results."
   ]
  },
  {
   "cell_type": "code",
   "execution_count": 23,
   "metadata": {
    "slideshow": {
     "slide_type": "slide"
    }
   },
   "outputs": [],
   "source": [
    "from bs4 import BeautifulSoup\n",
    "import requests\n",
    " \n",
    "os.makedirs('bundestagsprotokolle', exist_ok=True)\n",
    "\n",
    "root_url = \"https://www.bundestag.de\"\n",
    "url = \"https://www.bundestag.de/ajax/filterlist/de/services/opendata/543410-543410/h_49f0d94cb26682ff1e9428b6de471a5b?limit=10&noFilterSet=true&offset=\"\n",
    " \n",
    "for offset in range(0,300,10):\n",
    "    protocol_list = requests.get(url + f\"{offset}\").text\n",
    " \n",
    "    # Passing the source code to BeautifulSoup to create a BeautifulSoup object for it.\n",
    "    soup = BeautifulSoup(protocol_list, 'lxml')\n",
    "\n",
    "    # Extracting all the <a> tags into a list.\n",
    "    tags = soup.find_all('a')\n",
    "\n",
    "    for link in soup.find_all('a'):\n",
    "        if link.get('href').endswith('.xml'):\n",
    "            xml_response = requests.get(root_url + link.get('href'))\n",
    "            open(os.path.join('bundestagsprotokolle', f'{offset}-' + link.get('href').split('/')[-1]), 'w').write(xml_response.text)\n"
   ]
  },
  {
   "cell_type": "markdown",
   "metadata": {
    "slideshow": {
     "slide_type": "slide"
    }
   },
   "source": [
    "## Extracting Relevant content\n",
    "\n",
    "Now that we have downloaded the data, let's see what data we can extract. \n",
    "\n",
    "Let's focus on speech text, speaker and the reactions from the parliament. \n",
    "\n",
    "We first need to find in the content the relevant DOM elements:"
   ]
  },
  {
   "cell_type": "code",
   "execution_count": 3,
   "metadata": {
    "slideshow": {
     "slide_type": "slide"
    }
   },
   "outputs": [],
   "source": [
    "soup = BeautifulSoup(open('bundestagsprotokolle/0-19155-data.xml').read())"
   ]
  },
  {
   "cell_type": "code",
   "execution_count": 40,
   "metadata": {
    "slideshow": {
     "slide_type": "slide"
    }
   },
   "outputs": [
    {
     "data": {
      "text/plain": [
       "<ivz-eintrag>\n",
       "<ivz-eintrag-inhalt>Stephan Brandner (AfD)</ivz-eintrag-inhalt><a href=\"S19226\" typ=\"druckseitennummer\">\n",
       "<seite>19226</seite>\n",
       "<seitenbereich>C</seitenbereich>\n",
       "</a>\n",
       "</ivz-eintrag>"
      ]
     },
     "execution_count": 40,
     "metadata": {},
     "output_type": "execute_result"
    }
   ],
   "source": [
    "soup.find_all('ivz-eintrag')[99]"
   ]
  },
  {
   "cell_type": "markdown",
   "metadata": {
    "slideshow": {
     "slide_type": "slide"
    }
   },
   "source": [
    "Now let's extract the speeches and reactions"
   ]
  },
  {
   "cell_type": "code",
   "execution_count": 41,
   "metadata": {
    "slideshow": {
     "slide_type": "fragment"
    }
   },
   "outputs": [
    {
     "data": {
      "text/plain": [
       "{'redner': 'Andreas-Scheuer',\n",
       " 'rede': 'Wir müssen aber auch Kontrolle üben und Vorbereitungen treffen. Zum einen müssen wir kontrollieren, ob die Einschränkungen, die beschlossen wurden, auch eingehalten werden, und zum anderen Vorbereitungen dafür treffen, dass in Phasen ein öffentliches Leben unter Einhaltung der Vorkehrungen zur Eindämmung der Ausbreitung möglich ist. Vor allem müssen wir durch die Mobilität und die Logistik aber auch die Versorgung garantieren und die Ausübung der notwendigen beruflichen Arbeit bzw. Tätigkeit gewährleisten. Wir müssen Rücksicht und Disziplin üben: Rücksicht auf den Nächsten und Disziplin im eigenen Verhalten. Deswegen möchte ich sehr herzlich allen Bürgerinnen und Bürgern danken, die so umsichtig sind, den Vorkehrungen, die die Politik entschieden und beschlossen hat, Rechnung zu tragen. Dass die Bürgerinnen und Bürger das in einem so breiten Konsens mittragen, ist die Basis dafür, dass das Virus sich nicht zusätzlich ausbreitet. Wir als Bundesregierung informieren das Parlament gerne, nicht nur durch die vielen Staatssekretäre und Staatsminister, sondern heute auch – in kollegialer Zusammenarbeit – durch den Bundesgesundheitsminister. Vielleicht gab es bei dem einen oder anderen noch Informationsdefizite, was das Verkehrsministerium in so einer Krise alles machen muss, um die Lieferketten aufrechtzuerhalten, die Versorgung in den Supermärkten sicherzustellen und eine stabile Grundversorgung durch die Verkehrsmittel zu erreichen, beispielsweise bei der Fernbahn und den Regionalzügen. Wir arbeiten jetzt beispielsweise daran, verschiedene Szenarien einzuphasen. Wenn nämlich die Ministerpräsidenten und die Kultusminister darüber reden, dass der Schulunterricht wieder aufgenommen werden soll, dann ist es schon entscheidend, wie der Schüler von seiner eigenen Haustür zur Schultür kommt, und deshalb ist es notwendig, mit den Busunternehmen und den kommunalen Verkehrsbetrieben zu reden und vieles mehr zu organisieren. Meine Damen und Herren, ich kümmere mich gerne darum, dass jetzt zusammen mit dem Bundesgesundheitsministerium die Beschaffung von Schutzausrüstung noch zusätzlich über eine Landbrücke angereichert wird. Heute fährt der erste Zug von China nach Deutschland los, und das in wöchentlichem Turnus, mit mehreren Millionen Schutzartikeln nicht nur für Deutschland, sondern auch – meine Damen und Herren, das freut mich ganz besonders – mit Schutzgütern und medizinischen Gütern für Italien. Das ist eine sehr, sehr gute Botschaft, und zwar neben der Luftbrücke. Die Bemühungen dazu haben wir gemeinsam intensiviert. Wir haben gemeinsam geschaut, dass Start- und Landerechte gewährleistet sind, dass die Crews getestet sind und vieles mehr, dass wir die Lieferketten in vielen, vielen Belangen aufrechterhalten. Zusammen mit dem Bundeswirtschaftsminister stehen wir dazu in intensivem Kontakt, um Leben in Deutschland vorsichtig und diszipliniert zu ermöglichen, aber um vor allem auch die Produktion wieder anlaufen zu lassen. Wir haben bei der Bahn grenzüberschreitende Verkehre beim Warentransport. Die DB Cargo fährt sehr viele Verkehre. Das ist gut so; denn es werden mittlerweile auch Güter gefahren, die normalerweise nicht auf der Schiene transportiert werden, also auch Güter, die im Supermarkt zu finden sind und normalerweise mit anderen Verkehrsmitteln transportiert werden. Ich kann Ihnen noch eine sehr gute Botschaft über ein neues Förderprogramm für unsere Krankenschwestern und das Personal im Pflegedienst, aber vor allem auch in den Testlabors geben. Wir werden nächste Woche ein Förderprogramm starten, mit dem es ermöglicht wird, dass diese Beschäftigten auf die Mietwagenunternehmen zugehen und Mietwagen für ihre eigene Mobilität buchen können, damit sie von zu Hause sicher ins Krankenhaus oder ins Pflegeheim kommen. Ich glaube, das ist eine sehr, sehr gute Botschaft. Das ist eine Win-win-Situation. Die Mietwagenunternehmen spüren die Krise massiv. Deswegen gibt es da freie Kapazitäten, die wir mit diesem Förderprogramm nutzen können. Darüber hinaus gibt es auch eine gute Botschaft für die Taxiunternehmen. Wir haben mit den Taxiunternehmen gesprochen und Schutzvorrichtungen eingeführt, deren Einbau wir auch fördern werden, damit zwischen der normalen Fahrgastebene und dem Fahrer eine Trennwand eingefügt wird, aber nicht mit Plexiglas und anderen starren Dingen, wie man sie vielleicht aus dem Ausland kennt, sondern mit einer Art Folie – es gibt entsprechende Nachbausysteme –, und zwar eine stärkere, transparente Folie, die dann dazu führt, dass der Fahrgast und der Fahrer gegenseitig geschützt sind. Darüber haben wir uns mit vielen Verbänden aus der Wirtschaft sehr, sehr intensiv ausgetauscht. Wir haben vor allem auch ein stabiles Grundangebot über die verschiedenen Verkehrsträger gewährleistet und werden jetzt in die nächste Phase kommen, nämlich ein Grundangebot plus. Zum Schluss, Herr Präsident, möchte ich mich noch mal ganz herzlich bei allen bedanken, die in der Logistik tätig sind: bei den Lageristen, bei den Gabelstaplerfahrern, aber vor allem auch bei unseren Brummifahrern, dass sie diesen harten Job machen. Wir konnten ihnen dabei helfen, dass alle Rastanlagen und Autohöfe offen sind, die sanitäre Infrastruktur vorgehalten wird und auch die Verpflegung sichergestellt ist. Ihnen möchte ich herzlichen Dank sagen. Ich danke Ihnen für die Aufmerksamkeit.',\n",
       " 'n_words': 756,\n",
       " 'Beifall-GRÜNE': 0,\n",
       " 'Beifall-LINKE': 0,\n",
       " 'Beifall-FDP': 0,\n",
       " 'Beifall-CDU/CSU': 2,\n",
       " 'Beifall-SPD': 1,\n",
       " 'Beifall-AfD': 0}"
      ]
     },
     "execution_count": 41,
     "metadata": {},
     "output_type": "execute_result"
    }
   ],
   "source": [
    "import unicodedata, re\n",
    "\n",
    "def nrmlz(s):\n",
    "    return unicodedata.normalize(\"NFKD\",s)\n",
    "\n",
    "parties = ['GRÜNE', 'LINKE', 'FDP', 'CDU/CSU', 'SPD', 'AfD']\n",
    "\n",
    "def count_applause_per_party(st):\n",
    "    return {p:len(re.findall(p,st)) for p in parties}\n",
    "\n",
    "def parse_comment_for_applause(speech):\n",
    "    allcounts = {\"Beifall-\" + p:0 for p in parties}\n",
    "    for k in speech.find_all('kommentar'):\n",
    "        if 'Beifall' in k.getText():\n",
    "            # the first part is usually applause, the rest after ' – ' is other comments\n",
    "            counts = count_applause_per_party(nrmlz(k.getText()).split(' – ')[0])\n",
    "            for p in parties:\n",
    "                allcounts[\"Beifall-\" + p] += counts[p]\n",
    "    return allcounts\n",
    "\n",
    "reden = []\n",
    "for rede in soup.find_all('rede'):\n",
    "    rede_text = nrmlz(\" \".join([x.getText() for x in rede.find_all('p',{'klasse':'J'})]))\n",
    "    reden.append({\n",
    "        'redner': rede.find('redner').find('vorname').getText() + \"-\" + rede.find('redner').find('nachname').getText(),\n",
    "        'rede': rede_text,\n",
    "        'n_words': len(rede_text.split(\" \")),\n",
    "        **parse_comment_for_applause(rede)\n",
    "    })\n",
    "reden[0]"
   ]
  },
  {
   "cell_type": "code",
   "execution_count": 42,
   "metadata": {
    "scrolled": true,
    "slideshow": {
     "slide_type": "slide"
    }
   },
   "outputs": [
    {
     "data": {
      "text/html": [
       "<div>\n",
       "<style scoped>\n",
       "    .dataframe tbody tr th:only-of-type {\n",
       "        vertical-align: middle;\n",
       "    }\n",
       "\n",
       "    .dataframe tbody tr th {\n",
       "        vertical-align: top;\n",
       "    }\n",
       "\n",
       "    .dataframe thead th {\n",
       "        text-align: right;\n",
       "    }\n",
       "</style>\n",
       "<table border=\"1\" class=\"dataframe\">\n",
       "  <thead>\n",
       "    <tr style=\"text-align: right;\">\n",
       "      <th></th>\n",
       "      <th>redner</th>\n",
       "      <th>rede</th>\n",
       "      <th>n_words</th>\n",
       "      <th>Beifall-GRÜNE</th>\n",
       "      <th>Beifall-LINKE</th>\n",
       "      <th>Beifall-FDP</th>\n",
       "      <th>Beifall-CDU/CSU</th>\n",
       "      <th>Beifall-SPD</th>\n",
       "      <th>Beifall-AfD</th>\n",
       "    </tr>\n",
       "  </thead>\n",
       "  <tbody>\n",
       "    <tr>\n",
       "      <th>0</th>\n",
       "      <td>Andreas-Scheuer</td>\n",
       "      <td>Wir müssen aber auch Kontrolle üben und Vorb...</td>\n",
       "      <td>756</td>\n",
       "      <td>0</td>\n",
       "      <td>0</td>\n",
       "      <td>0</td>\n",
       "      <td>2</td>\n",
       "      <td>1</td>\n",
       "      <td>0</td>\n",
       "    </tr>\n",
       "    <tr>\n",
       "      <th>1</th>\n",
       "      <td>Dirk-Spaniel</td>\n",
       "      <td>Trotzdem erleben wir, dass eine Organisation, ...</td>\n",
       "      <td>123</td>\n",
       "      <td>0</td>\n",
       "      <td>0</td>\n",
       "      <td>0</td>\n",
       "      <td>0</td>\n",
       "      <td>0</td>\n",
       "      <td>0</td>\n",
       "    </tr>\n",
       "    <tr>\n",
       "      <th>2</th>\n",
       "      <td>Andreas-Scheuer</td>\n",
       "      <td>Sie wissen, dass auch mein Staatssekretär im ...</td>\n",
       "      <td>131</td>\n",
       "      <td>0</td>\n",
       "      <td>0</td>\n",
       "      <td>0</td>\n",
       "      <td>0</td>\n",
       "      <td>0</td>\n",
       "      <td>0</td>\n",
       "    </tr>\n",
       "    <tr>\n",
       "      <th>3</th>\n",
       "      <td>Uwe-Schmidt</td>\n",
       "      <td>Mit Stand vom 31. März 2020 waren 1 649 Schif...</td>\n",
       "      <td>128</td>\n",
       "      <td>0</td>\n",
       "      <td>0</td>\n",
       "      <td>0</td>\n",
       "      <td>0</td>\n",
       "      <td>0</td>\n",
       "      <td>0</td>\n",
       "    </tr>\n",
       "    <tr>\n",
       "      <th>4</th>\n",
       "      <td>Andreas-Scheuer</td>\n",
       "      <td>Es gibt keine Auffälligkeiten beim Crewwechse...</td>\n",
       "      <td>177</td>\n",
       "      <td>0</td>\n",
       "      <td>0</td>\n",
       "      <td>0</td>\n",
       "      <td>0</td>\n",
       "      <td>0</td>\n",
       "      <td>0</td>\n",
       "    </tr>\n",
       "    <tr>\n",
       "      <th>...</th>\n",
       "      <td>...</td>\n",
       "      <td>...</td>\n",
       "      <td>...</td>\n",
       "      <td>...</td>\n",
       "      <td>...</td>\n",
       "      <td>...</td>\n",
       "      <td>...</td>\n",
       "      <td>...</td>\n",
       "      <td>...</td>\n",
       "    </tr>\n",
       "    <tr>\n",
       "      <th>111</th>\n",
       "      <td>Jens-Brandenburg</td>\n",
       "      <td>Frau Karliczek, dass ausgerechnet Sie jetzt au...</td>\n",
       "      <td>378</td>\n",
       "      <td>0</td>\n",
       "      <td>3</td>\n",
       "      <td>4</td>\n",
       "      <td>0</td>\n",
       "      <td>1</td>\n",
       "      <td>0</td>\n",
       "    </tr>\n",
       "    <tr>\n",
       "      <th>112</th>\n",
       "      <td>Nicole-Gohlke</td>\n",
       "      <td>Jetzt, Frau Ministerin, bieten Sie an, dass di...</td>\n",
       "      <td>281</td>\n",
       "      <td>0</td>\n",
       "      <td>5</td>\n",
       "      <td>0</td>\n",
       "      <td>0</td>\n",
       "      <td>0</td>\n",
       "      <td>0</td>\n",
       "    </tr>\n",
       "    <tr>\n",
       "      <th>113</th>\n",
       "      <td>Kai-Gehring</td>\n",
       "      <td>Von den knapp 3 Millionen Studierenden erhalte...</td>\n",
       "      <td>283</td>\n",
       "      <td>0</td>\n",
       "      <td>2</td>\n",
       "      <td>0</td>\n",
       "      <td>1</td>\n",
       "      <td>0</td>\n",
       "      <td>0</td>\n",
       "    </tr>\n",
       "    <tr>\n",
       "      <th>114</th>\n",
       "      <td>Astrid-Mannes</td>\n",
       "      <td>In einer Welt befristeter Promotionsstellen is...</td>\n",
       "      <td>439</td>\n",
       "      <td>0</td>\n",
       "      <td>0</td>\n",
       "      <td>0</td>\n",
       "      <td>4</td>\n",
       "      <td>1</td>\n",
       "      <td>0</td>\n",
       "    </tr>\n",
       "    <tr>\n",
       "      <th>115</th>\n",
       "      <td>Oliver-Kaczmarek</td>\n",
       "      <td>In diesen Tagen hat an den Hochschulen das Som...</td>\n",
       "      <td>493</td>\n",
       "      <td>0</td>\n",
       "      <td>0</td>\n",
       "      <td>1</td>\n",
       "      <td>1</td>\n",
       "      <td>4</td>\n",
       "      <td>0</td>\n",
       "    </tr>\n",
       "  </tbody>\n",
       "</table>\n",
       "<p>116 rows × 9 columns</p>\n",
       "</div>"
      ],
      "text/plain": [
       "               redner                                               rede  \\\n",
       "0     Andreas-Scheuer  Wir müssen aber auch Kontrolle üben und Vorb...   \n",
       "1        Dirk-Spaniel  Trotzdem erleben wir, dass eine Organisation, ...   \n",
       "2     Andreas-Scheuer  Sie wissen, dass auch mein Staatssekretär im ...   \n",
       "3         Uwe-Schmidt  Mit Stand vom 31. März 2020 waren 1 649 Schif...   \n",
       "4     Andreas-Scheuer  Es gibt keine Auffälligkeiten beim Crewwechse...   \n",
       "..                ...                                                ...   \n",
       "111  Jens-Brandenburg  Frau Karliczek, dass ausgerechnet Sie jetzt au...   \n",
       "112     Nicole-Gohlke  Jetzt, Frau Ministerin, bieten Sie an, dass di...   \n",
       "113       Kai-Gehring  Von den knapp 3 Millionen Studierenden erhalte...   \n",
       "114     Astrid-Mannes  In einer Welt befristeter Promotionsstellen is...   \n",
       "115  Oliver-Kaczmarek  In diesen Tagen hat an den Hochschulen das Som...   \n",
       "\n",
       "     n_words  Beifall-GRÜNE  Beifall-LINKE  Beifall-FDP  Beifall-CDU/CSU  \\\n",
       "0        756              0              0            0                2   \n",
       "1        123              0              0            0                0   \n",
       "2        131              0              0            0                0   \n",
       "3        128              0              0            0                0   \n",
       "4        177              0              0            0                0   \n",
       "..       ...            ...            ...          ...              ...   \n",
       "111      378              0              3            4                0   \n",
       "112      281              0              5            0                0   \n",
       "113      283              0              2            0                1   \n",
       "114      439              0              0            0                4   \n",
       "115      493              0              0            1                1   \n",
       "\n",
       "     Beifall-SPD  Beifall-AfD  \n",
       "0              1            0  \n",
       "1              0            0  \n",
       "2              0            0  \n",
       "3              0            0  \n",
       "4              0            0  \n",
       "..           ...          ...  \n",
       "111            1            0  \n",
       "112            0            0  \n",
       "113            0            0  \n",
       "114            1            0  \n",
       "115            4            0  \n",
       "\n",
       "[116 rows x 9 columns]"
      ]
     },
     "execution_count": 42,
     "metadata": {},
     "output_type": "execute_result"
    }
   ],
   "source": [
    "df = pd.DataFrame(reden)\n",
    "df"
   ]
  },
  {
   "cell_type": "code",
   "execution_count": 28,
   "metadata": {
    "slideshow": {
     "slide_type": "slide"
    }
   },
   "outputs": [
    {
     "data": {
      "text/html": [
       "<div>\n",
       "<style scoped>\n",
       "    .dataframe tbody tr th:only-of-type {\n",
       "        vertical-align: middle;\n",
       "    }\n",
       "\n",
       "    .dataframe tbody tr th {\n",
       "        vertical-align: top;\n",
       "    }\n",
       "\n",
       "    .dataframe thead th {\n",
       "        text-align: right;\n",
       "    }\n",
       "</style>\n",
       "<table border=\"1\" class=\"dataframe\">\n",
       "  <thead>\n",
       "    <tr style=\"text-align: right;\">\n",
       "      <th></th>\n",
       "      <th>Beifall-GRÜNE</th>\n",
       "      <th>Beifall-LINKE</th>\n",
       "      <th>Beifall-FDP</th>\n",
       "      <th>Beifall-CDU/CSU</th>\n",
       "      <th>Beifall-SPD</th>\n",
       "      <th>Beifall-AfD</th>\n",
       "    </tr>\n",
       "    <tr>\n",
       "      <th>redner</th>\n",
       "      <th></th>\n",
       "      <th></th>\n",
       "      <th></th>\n",
       "      <th></th>\n",
       "      <th></th>\n",
       "      <th></th>\n",
       "    </tr>\n",
       "  </thead>\n",
       "  <tbody>\n",
       "    <tr>\n",
       "      <th>Jens-Spahn</th>\n",
       "      <td>0</td>\n",
       "      <td>2</td>\n",
       "      <td>2</td>\n",
       "      <td>6</td>\n",
       "      <td>5</td>\n",
       "      <td>1</td>\n",
       "    </tr>\n",
       "    <tr>\n",
       "      <th>Matthias-Zimmer</th>\n",
       "      <td>0</td>\n",
       "      <td>1</td>\n",
       "      <td>0</td>\n",
       "      <td>5</td>\n",
       "      <td>1</td>\n",
       "      <td>1</td>\n",
       "    </tr>\n",
       "    <tr>\n",
       "      <th>Andreas-Scheuer</th>\n",
       "      <td>0</td>\n",
       "      <td>0</td>\n",
       "      <td>1</td>\n",
       "      <td>5</td>\n",
       "      <td>1</td>\n",
       "      <td>1</td>\n",
       "    </tr>\n",
       "    <tr>\n",
       "      <th>Volker-Ullrich</th>\n",
       "      <td>0</td>\n",
       "      <td>0</td>\n",
       "      <td>2</td>\n",
       "      <td>5</td>\n",
       "      <td>3</td>\n",
       "      <td>0</td>\n",
       "    </tr>\n",
       "    <tr>\n",
       "      <th>Anja-Karliczek</th>\n",
       "      <td>0</td>\n",
       "      <td>0</td>\n",
       "      <td>0</td>\n",
       "      <td>5</td>\n",
       "      <td>5</td>\n",
       "      <td>1</td>\n",
       "    </tr>\n",
       "    <tr>\n",
       "      <th>...</th>\n",
       "      <td>...</td>\n",
       "      <td>...</td>\n",
       "      <td>...</td>\n",
       "      <td>...</td>\n",
       "      <td>...</td>\n",
       "      <td>...</td>\n",
       "    </tr>\n",
       "    <tr>\n",
       "      <th>Gesine-Lötzsch</th>\n",
       "      <td>0</td>\n",
       "      <td>1</td>\n",
       "      <td>0</td>\n",
       "      <td>0</td>\n",
       "      <td>0</td>\n",
       "      <td>0</td>\n",
       "    </tr>\n",
       "    <tr>\n",
       "      <th>Dirk-Spaniel</th>\n",
       "      <td>0</td>\n",
       "      <td>0</td>\n",
       "      <td>0</td>\n",
       "      <td>0</td>\n",
       "      <td>0</td>\n",
       "      <td>0</td>\n",
       "    </tr>\n",
       "    <tr>\n",
       "      <th>Matthias-Gastel</th>\n",
       "      <td>0</td>\n",
       "      <td>0</td>\n",
       "      <td>0</td>\n",
       "      <td>0</td>\n",
       "      <td>0</td>\n",
       "      <td>0</td>\n",
       "    </tr>\n",
       "    <tr>\n",
       "      <th>Diether-Dehm</th>\n",
       "      <td>0</td>\n",
       "      <td>0</td>\n",
       "      <td>0</td>\n",
       "      <td>0</td>\n",
       "      <td>0</td>\n",
       "      <td>0</td>\n",
       "    </tr>\n",
       "    <tr>\n",
       "      <th>Kirsten-Kappert-Gonther</th>\n",
       "      <td>0</td>\n",
       "      <td>0</td>\n",
       "      <td>0</td>\n",
       "      <td>0</td>\n",
       "      <td>0</td>\n",
       "      <td>0</td>\n",
       "    </tr>\n",
       "  </tbody>\n",
       "</table>\n",
       "<p>66 rows × 6 columns</p>\n",
       "</div>"
      ],
      "text/plain": [
       "                         Beifall-GRÜNE  Beifall-LINKE  Beifall-FDP  \\\n",
       "redner                                                               \n",
       "Jens-Spahn                           0              2            2   \n",
       "Matthias-Zimmer                      0              1            0   \n",
       "Andreas-Scheuer                      0              0            1   \n",
       "Volker-Ullrich                       0              0            2   \n",
       "Anja-Karliczek                       0              0            0   \n",
       "...                                ...            ...          ...   \n",
       "Gesine-Lötzsch                       0              1            0   \n",
       "Dirk-Spaniel                         0              0            0   \n",
       "Matthias-Gastel                      0              0            0   \n",
       "Diether-Dehm                         0              0            0   \n",
       "Kirsten-Kappert-Gonther              0              0            0   \n",
       "\n",
       "                         Beifall-CDU/CSU  Beifall-SPD  Beifall-AfD  \n",
       "redner                                                              \n",
       "Jens-Spahn                             6            5            1  \n",
       "Matthias-Zimmer                        5            1            1  \n",
       "Andreas-Scheuer                        5            1            1  \n",
       "Volker-Ullrich                         5            3            0  \n",
       "Anja-Karliczek                         5            5            1  \n",
       "...                                  ...          ...          ...  \n",
       "Gesine-Lötzsch                         0            0            0  \n",
       "Dirk-Spaniel                           0            0            0  \n",
       "Matthias-Gastel                        0            0            0  \n",
       "Diether-Dehm                           0            0            0  \n",
       "Kirsten-Kappert-Gonther                0            0            0  \n",
       "\n",
       "[66 rows x 6 columns]"
      ]
     },
     "execution_count": 28,
     "metadata": {},
     "output_type": "execute_result"
    }
   ],
   "source": [
    "df.groupby('redner')\\\n",
    "    .agg({\"Beifall-\" + p:sum for p in parties})\\\n",
    "    .sort_values(by='Beifall-CDU/CSU',ascending=False)"
   ]
  },
  {
   "cell_type": "code",
   "execution_count": 43,
   "metadata": {
    "slideshow": {
     "slide_type": "slide"
    }
   },
   "outputs": [
    {
     "data": {
      "application/vnd.jupyter.widget-view+json": {
       "model_id": "204cf56e3ede4b8ea0ccdc1d17d5a0ef",
       "version_major": 2,
       "version_minor": 0
      },
      "text/plain": [
       "interactive(children=(Select(description='x', options=('All', 'Albert H.-Weiler', 'Andreas-Mrosek', 'Andreas-S…"
      ]
     },
     "metadata": {},
     "output_type": "display_data"
    }
   ],
   "source": [
    "import ipywidgets as widgets\n",
    "from ipywidgets import interactive\n",
    " \n",
    "items = ['All']+sorted(df['redner'].unique().tolist())\n",
    " \n",
    "def view(x=''):\n",
    "    if x=='All': \n",
    "        display(df)\n",
    "    else:\n",
    "        display(df[df['redner']==x])\n",
    "\n",
    "w = widgets.Select(options=items)\n",
    "interactive(view, x=w)"
   ]
  },
  {
   "cell_type": "code",
   "execution_count": null,
   "metadata": {},
   "outputs": [],
   "source": []
  }
 ],
 "metadata": {
  "celltoolbar": "Slideshow",
  "kernelspec": {
   "display_name": "Python 3 (ipykernel)",
   "language": "python",
   "name": "python3"
  },
  "language_info": {
   "codemirror_mode": {
    "name": "ipython",
    "version": 3
   },
   "file_extension": ".py",
   "mimetype": "text/x-python",
   "name": "python",
   "nbconvert_exporter": "python",
   "pygments_lexer": "ipython3",
   "version": "3.9.0"
  }
 },
 "nbformat": 4,
 "nbformat_minor": 4
}
