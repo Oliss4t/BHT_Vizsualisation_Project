{
 "cells": [
  {
   "cell_type": "markdown",
   "metadata": {
    "slideshow": {
     "slide_type": "slide"
    },
    "tags": []
   },
   "source": [
    "# Data Visualisation - Happiness\n",
    "\n",
    "Conor Fallon and Tassilo Henninger\n",
    "\n"
   ]
  },
  {
   "cell_type": "code",
   "execution_count": 5,
   "metadata": {
    "slideshow": {
     "slide_type": "skip"
    }
   },
   "outputs": [],
   "source": [
    "options(width =200)\n",
    "knitr::opts_chunk$set(echo = TRUE)\n",
    "library(knitr)\n",
    "library(kableExtra)\n",
    "require(gridExtra)\n",
    "library(plotly)\n",
    "library(scales)\n",
    "library(GGally)\n",
    "library(reshape2)\n",
    "library(car)\n",
    "library(rgl)\n",
    "library(ggplot2)\n",
    "require(\"glmnet\")\n",
    "library(\"corrplot\")\n",
    "library(viridis)\n",
    "library(\"ggbiplot\")\n",
    "library(ggforce)\n",
    "library(kohonen)\n",
    "library(\"shinyLP\")\n",
    "library(IRdisplay)\n",
    "\n",
    "cred <- \"#b30000\"\n",
    "cgreen <- \"#097969\""
   ]
  },
  {
   "cell_type": "markdown",
   "metadata": {
    "slideshow": {
     "slide_type": "slide"
    }
   },
   "source": [
    "# Overview\n",
    "\n",
    "- Opening Questions\n",
    "- Datasets and pre-processing\n",
    "- Preliminary analyses\n",
    "- Specific Factors on Happiness\n",
    "- Happines over Time\n"
   ]
  },
  {
   "cell_type": "markdown",
   "metadata": {
    "slideshow": {
     "slide_type": "slide"
    }
   },
   "source": [
    "# Questions\n",
    "\n",
    "## What influences Happiness?\n",
    "\n",
    "* Can happiness be explained by certain factors?\n",
    "* What are those factors and how much do they influence the happiness?\n",
    "\n",
    "## How Does Happiness Change Over Time?\n"
   ]
  },
  {
   "cell_type": "markdown",
   "metadata": {
    "slideshow": {
     "slide_type": "slide"
    }
   },
   "source": [
    "# Datasets and Pre-Processing\n",
    "\n",
    "## Over Time Dataset\n",
    "The World Happiness Report is a landmark survey of the state of global happiness.The happiness scores and rankings use data from the Gallup World Poll (GWP). The scores are based on answers to the main life evaluation question asked in the poll.\n",
    "\n",
    "The Happiness Report includes additional 6 factors which show the estimated extent to which each of the six factor is estimated to contribute to making life evaluations (happiness score) higher in each country than in Dystopia\n",
    "\n",
    "* levels of GDP\n",
    "* life expectancy\n",
    "* generosity\n",
    "* social support\n",
    "* freedom\n",
    "* corruption\n",
    "\n",
    " happiness score can be calculated by: $$\\sum_{i=1}^{6} factorvalue_i + dystopiahappiness + residual $$\n",
    "\n",
    "\n"
   ]
  },
  {
   "cell_type": "code",
   "execution_count": 6,
   "metadata": {
    "slideshow": {
     "slide_type": "skip"
    }
   },
   "outputs": [],
   "source": [
    "load_data_explained_2015 <- function() {\n",
    "    h_sample_2015 <- read.csv(file = './data/happy/2015.csv')\n",
    "    kable(h_sample_2015[1:3,], \"html\") %>% \n",
    "        kable_styling(\"striped\") %>% \n",
    "        scroll_box(width = \"100%\") %>%\n",
    "        as.character() %>%\n",
    "        display_html()\n",
    "    }"
   ]
  },
  {
   "cell_type": "code",
   "execution_count": 7,
   "metadata": {
    "slideshow": {
     "slide_type": "subslide"
    }
   },
   "outputs": [
    {
     "data": {
      "text/html": [
       "<div style=\"border: 1px solid #ddd; padding: 5px; overflow-x: scroll; width:100%; \"><table class=\"table table-striped\" style=\"margin-left: auto; margin-right: auto;\">\n",
       " <thead>\n",
       "  <tr>\n",
       "   <th style=\"text-align:left;\"> Country </th>\n",
       "   <th style=\"text-align:left;\"> Region </th>\n",
       "   <th style=\"text-align:right;\"> Happiness.Rank </th>\n",
       "   <th style=\"text-align:right;\"> Happiness.Score </th>\n",
       "   <th style=\"text-align:right;\"> Standard.Error </th>\n",
       "   <th style=\"text-align:right;\"> Economy..GDP.per.Capita. </th>\n",
       "   <th style=\"text-align:right;\"> Family </th>\n",
       "   <th style=\"text-align:right;\"> Health..Life.Expectancy. </th>\n",
       "   <th style=\"text-align:right;\"> Freedom </th>\n",
       "   <th style=\"text-align:right;\"> Trust..Government.Corruption. </th>\n",
       "   <th style=\"text-align:right;\"> Generosity </th>\n",
       "   <th style=\"text-align:right;\"> Dystopia.Residual </th>\n",
       "  </tr>\n",
       " </thead>\n",
       "<tbody>\n",
       "  <tr>\n",
       "   <td style=\"text-align:left;\"> Switzerland </td>\n",
       "   <td style=\"text-align:left;\"> Western Europe </td>\n",
       "   <td style=\"text-align:right;\"> 1 </td>\n",
       "   <td style=\"text-align:right;\"> 7.587 </td>\n",
       "   <td style=\"text-align:right;\"> 0.03411 </td>\n",
       "   <td style=\"text-align:right;\"> 1.39651 </td>\n",
       "   <td style=\"text-align:right;\"> 1.34951 </td>\n",
       "   <td style=\"text-align:right;\"> 0.94143 </td>\n",
       "   <td style=\"text-align:right;\"> 0.66557 </td>\n",
       "   <td style=\"text-align:right;\"> 0.41978 </td>\n",
       "   <td style=\"text-align:right;\"> 0.29678 </td>\n",
       "   <td style=\"text-align:right;\"> 2.51738 </td>\n",
       "  </tr>\n",
       "  <tr>\n",
       "   <td style=\"text-align:left;\"> Iceland </td>\n",
       "   <td style=\"text-align:left;\"> Western Europe </td>\n",
       "   <td style=\"text-align:right;\"> 2 </td>\n",
       "   <td style=\"text-align:right;\"> 7.561 </td>\n",
       "   <td style=\"text-align:right;\"> 0.04884 </td>\n",
       "   <td style=\"text-align:right;\"> 1.30232 </td>\n",
       "   <td style=\"text-align:right;\"> 1.40223 </td>\n",
       "   <td style=\"text-align:right;\"> 0.94784 </td>\n",
       "   <td style=\"text-align:right;\"> 0.62877 </td>\n",
       "   <td style=\"text-align:right;\"> 0.14145 </td>\n",
       "   <td style=\"text-align:right;\"> 0.43630 </td>\n",
       "   <td style=\"text-align:right;\"> 2.70201 </td>\n",
       "  </tr>\n",
       "  <tr>\n",
       "   <td style=\"text-align:left;\"> Denmark </td>\n",
       "   <td style=\"text-align:left;\"> Western Europe </td>\n",
       "   <td style=\"text-align:right;\"> 3 </td>\n",
       "   <td style=\"text-align:right;\"> 7.527 </td>\n",
       "   <td style=\"text-align:right;\"> 0.03328 </td>\n",
       "   <td style=\"text-align:right;\"> 1.32548 </td>\n",
       "   <td style=\"text-align:right;\"> 1.36058 </td>\n",
       "   <td style=\"text-align:right;\"> 0.87464 </td>\n",
       "   <td style=\"text-align:right;\"> 0.64938 </td>\n",
       "   <td style=\"text-align:right;\"> 0.48357 </td>\n",
       "   <td style=\"text-align:right;\"> 0.34139 </td>\n",
       "   <td style=\"text-align:right;\"> 2.49204 </td>\n",
       "  </tr>\n",
       "</tbody>\n",
       "</table></div>"
      ]
     },
     "metadata": {},
     "output_type": "display_data"
    }
   ],
   "source": [
    "load_data_explained_2015()"
   ]
  },
  {
   "cell_type": "code",
   "execution_count": 8,
   "metadata": {
    "slideshow": {
     "slide_type": "skip"
    }
   },
   "outputs": [],
   "source": [
    "load_data_explained_preprocessed <- function() {\n",
    "    h_sample_2015 <- read.csv(file = './data/preprocessed_data_happy_incl_region_no_nan.csv', sep=\";\" )\n",
    "    kable(h_sample_2015[1:3,2:12], \"html\") %>% \n",
    "        kable_styling(\"striped\") %>% \n",
    "        scroll_box(width = \"100%\") %>%\n",
    "        as.character() %>%\n",
    "        display_html()\n",
    "    }"
   ]
  },
  {
   "cell_type": "code",
   "execution_count": 9,
   "metadata": {
    "slideshow": {
     "slide_type": "subslide"
    }
   },
   "outputs": [
    {
     "data": {
      "text/html": [
       "<div style=\"border: 1px solid #ddd; padding: 5px; overflow-x: scroll; width:100%; \"><table class=\"table table-striped\" style=\"margin-left: auto; margin-right: auto;\">\n",
       " <thead>\n",
       "  <tr>\n",
       "   <th style=\"text-align:left;\"> Country </th>\n",
       "   <th style=\"text-align:right;\"> Happiness.Rank </th>\n",
       "   <th style=\"text-align:right;\"> Happiness </th>\n",
       "   <th style=\"text-align:right;\"> Economy </th>\n",
       "   <th style=\"text-align:right;\"> Family </th>\n",
       "   <th style=\"text-align:right;\"> Health </th>\n",
       "   <th style=\"text-align:right;\"> Freedom </th>\n",
       "   <th style=\"text-align:right;\"> Trust </th>\n",
       "   <th style=\"text-align:right;\"> Generosity </th>\n",
       "   <th style=\"text-align:right;\"> Year </th>\n",
       "   <th style=\"text-align:left;\"> Region </th>\n",
       "  </tr>\n",
       " </thead>\n",
       "<tbody>\n",
       "  <tr>\n",
       "   <td style=\"text-align:left;\"> Switzerland </td>\n",
       "   <td style=\"text-align:right;\"> 1 </td>\n",
       "   <td style=\"text-align:right;\"> 7.587 </td>\n",
       "   <td style=\"text-align:right;\"> 1.39651 </td>\n",
       "   <td style=\"text-align:right;\"> 1.34951 </td>\n",
       "   <td style=\"text-align:right;\"> 0.94143 </td>\n",
       "   <td style=\"text-align:right;\"> 0.66557 </td>\n",
       "   <td style=\"text-align:right;\"> 0.41978 </td>\n",
       "   <td style=\"text-align:right;\"> 0.29678 </td>\n",
       "   <td style=\"text-align:right;\"> 2015 </td>\n",
       "   <td style=\"text-align:left;\"> Western Europe </td>\n",
       "  </tr>\n",
       "  <tr>\n",
       "   <td style=\"text-align:left;\"> Iceland </td>\n",
       "   <td style=\"text-align:right;\"> 2 </td>\n",
       "   <td style=\"text-align:right;\"> 7.561 </td>\n",
       "   <td style=\"text-align:right;\"> 1.30232 </td>\n",
       "   <td style=\"text-align:right;\"> 1.40223 </td>\n",
       "   <td style=\"text-align:right;\"> 0.94784 </td>\n",
       "   <td style=\"text-align:right;\"> 0.62877 </td>\n",
       "   <td style=\"text-align:right;\"> 0.14145 </td>\n",
       "   <td style=\"text-align:right;\"> 0.43630 </td>\n",
       "   <td style=\"text-align:right;\"> 2015 </td>\n",
       "   <td style=\"text-align:left;\"> Western Europe </td>\n",
       "  </tr>\n",
       "  <tr>\n",
       "   <td style=\"text-align:left;\"> Denmark </td>\n",
       "   <td style=\"text-align:right;\"> 3 </td>\n",
       "   <td style=\"text-align:right;\"> 7.527 </td>\n",
       "   <td style=\"text-align:right;\"> 1.32548 </td>\n",
       "   <td style=\"text-align:right;\"> 1.36058 </td>\n",
       "   <td style=\"text-align:right;\"> 0.87464 </td>\n",
       "   <td style=\"text-align:right;\"> 0.64938 </td>\n",
       "   <td style=\"text-align:right;\"> 0.48357 </td>\n",
       "   <td style=\"text-align:right;\"> 0.34139 </td>\n",
       "   <td style=\"text-align:right;\"> 2015 </td>\n",
       "   <td style=\"text-align:left;\"> Western Europe </td>\n",
       "  </tr>\n",
       "</tbody>\n",
       "</table></div>"
      ]
     },
     "metadata": {},
     "output_type": "display_data"
    }
   ],
   "source": [
    "load_data_explained_preprocessed()\n",
    "#ranging from 2015 to 2022"
   ]
  },
  {
   "cell_type": "markdown",
   "metadata": {
    "slideshow": {
     "slide_type": "slide"
    }
   },
   "source": [
    "## Influential Factors Dataset\n",
    "\n",
    "additional version of the happiness dataset, which includes the actual raw values and which we can therefore use for analysing the variable importance and use in data dimension reduction steps.\n",
    "\n",
    "* [smoking dataset](https://ourworldindata.org/smoking) \n",
    "* [alcohol dataset](https://www.kaggle.com/datasets/pralabhpoudel/alcohol-consumption-by-country?resource=download)\n",
    "* [internet dataset](https://data.worldbank.org/indicator/IT.NET.USER.ZS)"
   ]
  },
  {
   "cell_type": "markdown",
   "metadata": {
    "slideshow": {
     "slide_type": "subslide"
    }
   },
   "source": [
    "* Country\n",
    "* Year\n",
    "* Happiness: happiness score\n",
    "* Economy: Log GDP per capita\n",
    "* Social: (support) national average of the binary responses (either 0 or 1) to the GWP question\n",
    "    + “If you were in trouble, do you have relatives or friends you can count on to help you whenever you need them, or not?”\n",
    "* Health: Healthy life expectancy at birth from WHO\n",
    "* Freedom: Freedom to make life choices, national average of responses to the GWP question\n",
    "* Generosity: residual of regressing national average of response to the GWP question\n",
    "* Corruption: national average of the survey responses to two questions in the GWP, (either 0 or 1)\n",
    "  + \"Is corruption widespread throughout the government or not\"\n",
    "  + \"Is corruption widespread within businesses or not?\"\n",
    "\n"
   ]
  },
  {
   "cell_type": "markdown",
   "metadata": {
    "slideshow": {
     "slide_type": "subslide"
    }
   },
   "source": [
    "* Positive: (affect) defined as the average of three positive affect measures in GWP: happiness, laugh and enjoyment\n",
    "* Negative: (affect)  defined as the average of three negative affect measures in GWP:  they are worry, sadness and anger\n",
    "* Government: Confidence in national government\n",
    "* Code: Country code\n",
    "* Alcohol: Total alcohol consumption per capita (liters of pure alcohol, projected estimates, 15+ years of age)\n",
    "* Population: Population (historical estimates)\n",
    "* Tobacco: Prevalence of current tobacco use (% of adults)\n",
    "* Internet: Individuals using the Internet (% of population)"
   ]
  },
  {
   "cell_type": "markdown",
   "metadata": {
    "slideshow": {
     "slide_type": "subslide"
    }
   },
   "source": [
    "![missing values full data](./figs/full_data_missing_values.png)"
   ]
  },
  {
   "cell_type": "markdown",
   "metadata": {
    "slideshow": {
     "slide_type": "subslide"
    }
   },
   "source": [
    "![missing values 2018](./figs/2018_missing_values.png)"
   ]
  },
  {
   "cell_type": "code",
   "execution_count": 10,
   "metadata": {
    "slideshow": {
     "slide_type": "skip"
    }
   },
   "outputs": [],
   "source": [
    "load_data_raw_preprocessed <- function() {\n",
    "    data_2018 <- read.csv(file = './data/preprocessed_raw_2018_no_nan.csv')\n",
    "    colnames(data_2018)[6] <- \"Social\"\n",
    "    colnames(data_2018)[11] <- \"Positive\"\n",
    "    colnames(data_2018)[12] <- \"Negative\"\n",
    "    #data_2018$Region <- as.factor(data_2018$Region)\n",
    "    kable(data_2018[1:3,1:ncol(data_2018)], \"html\") %>% \n",
    "        kable_styling(\"striped\") %>% \n",
    "        scroll_box(width = \"100%\") %>%\n",
    "        as.character() %>%\n",
    "        display_html()\n",
    "    }"
   ]
  },
  {
   "cell_type": "code",
   "execution_count": 11,
   "metadata": {
    "slideshow": {
     "slide_type": "subslide"
    }
   },
   "outputs": [
    {
     "data": {
      "text/html": [
       "<div style=\"border: 1px solid #ddd; padding: 5px; overflow-x: scroll; width:100%; \"><table class=\"table table-striped\" style=\"margin-left: auto; margin-right: auto;\">\n",
       " <thead>\n",
       "  <tr>\n",
       "   <th style=\"text-align:left;\"> Country </th>\n",
       "   <th style=\"text-align:left;\"> Region </th>\n",
       "   <th style=\"text-align:right;\"> Year </th>\n",
       "   <th style=\"text-align:right;\"> Happiness </th>\n",
       "   <th style=\"text-align:right;\"> Economy </th>\n",
       "   <th style=\"text-align:right;\"> Social </th>\n",
       "   <th style=\"text-align:right;\"> Health </th>\n",
       "   <th style=\"text-align:right;\"> Freedom </th>\n",
       "   <th style=\"text-align:right;\"> Generosity </th>\n",
       "   <th style=\"text-align:right;\"> Corruption </th>\n",
       "   <th style=\"text-align:right;\"> Positive </th>\n",
       "   <th style=\"text-align:right;\"> Negative </th>\n",
       "   <th style=\"text-align:right;\"> Government </th>\n",
       "   <th style=\"text-align:left;\"> Code </th>\n",
       "   <th style=\"text-align:right;\"> Alcohol </th>\n",
       "   <th style=\"text-align:right;\"> Population </th>\n",
       "   <th style=\"text-align:right;\"> Tobacco </th>\n",
       "   <th style=\"text-align:right;\"> Internet </th>\n",
       "  </tr>\n",
       " </thead>\n",
       "<tbody>\n",
       "  <tr>\n",
       "   <td style=\"text-align:left;\"> Albania </td>\n",
       "   <td style=\"text-align:left;\"> Central and Eastern Europe </td>\n",
       "   <td style=\"text-align:right;\"> 2018 </td>\n",
       "   <td style=\"text-align:right;\"> 5.004403 </td>\n",
       "   <td style=\"text-align:right;\"> 9.412399 </td>\n",
       "   <td style=\"text-align:right;\"> 0.6835917 </td>\n",
       "   <td style=\"text-align:right;\"> 68.7 </td>\n",
       "   <td style=\"text-align:right;\"> 0.8242123 </td>\n",
       "   <td style=\"text-align:right;\"> 0.0053850 </td>\n",
       "   <td style=\"text-align:right;\"> 0.8991294 </td>\n",
       "   <td style=\"text-align:right;\"> 0.7132996 </td>\n",
       "   <td style=\"text-align:right;\"> 0.3189967 </td>\n",
       "   <td style=\"text-align:right;\"> 0.4353380 </td>\n",
       "   <td style=\"text-align:left;\"> ALB </td>\n",
       "   <td style=\"text-align:right;\"> 7.17 </td>\n",
       "   <td style=\"text-align:right;\"> 2882735 </td>\n",
       "   <td style=\"text-align:right;\"> 29.2 </td>\n",
       "   <td style=\"text-align:right;\"> 65.40000 </td>\n",
       "  </tr>\n",
       "  <tr>\n",
       "   <td style=\"text-align:left;\"> Argentina </td>\n",
       "   <td style=\"text-align:left;\"> Latin America and Caribbean </td>\n",
       "   <td style=\"text-align:right;\"> 2018 </td>\n",
       "   <td style=\"text-align:right;\"> 5.792797 </td>\n",
       "   <td style=\"text-align:right;\"> 9.809972 </td>\n",
       "   <td style=\"text-align:right;\"> 0.8999116 </td>\n",
       "   <td style=\"text-align:right;\"> 68.8 </td>\n",
       "   <td style=\"text-align:right;\"> 0.8458947 </td>\n",
       "   <td style=\"text-align:right;\"> -0.2069366 </td>\n",
       "   <td style=\"text-align:right;\"> 0.8552552 </td>\n",
       "   <td style=\"text-align:right;\"> 0.8203097 </td>\n",
       "   <td style=\"text-align:right;\"> 0.3205021 </td>\n",
       "   <td style=\"text-align:right;\"> 0.2613523 </td>\n",
       "   <td style=\"text-align:left;\"> ARG </td>\n",
       "   <td style=\"text-align:right;\"> 9.65 </td>\n",
       "   <td style=\"text-align:right;\"> 44361150 </td>\n",
       "   <td style=\"text-align:right;\"> 21.8 </td>\n",
       "   <td style=\"text-align:right;\"> 77.70000 </td>\n",
       "  </tr>\n",
       "  <tr>\n",
       "   <td style=\"text-align:left;\"> Armenia </td>\n",
       "   <td style=\"text-align:left;\"> Commonwealth of Independent States </td>\n",
       "   <td style=\"text-align:right;\"> 2018 </td>\n",
       "   <td style=\"text-align:right;\"> 5.062449 </td>\n",
       "   <td style=\"text-align:right;\"> 9.119424 </td>\n",
       "   <td style=\"text-align:right;\"> 0.8144490 </td>\n",
       "   <td style=\"text-align:right;\"> 66.9 </td>\n",
       "   <td style=\"text-align:right;\"> 0.8076437 </td>\n",
       "   <td style=\"text-align:right;\"> -0.1491087 </td>\n",
       "   <td style=\"text-align:right;\"> 0.6768264 </td>\n",
       "   <td style=\"text-align:right;\"> 0.5814877 </td>\n",
       "   <td style=\"text-align:right;\"> 0.4548403 </td>\n",
       "   <td style=\"text-align:right;\"> 0.6708276 </td>\n",
       "   <td style=\"text-align:left;\"> ARM </td>\n",
       "   <td style=\"text-align:right;\"> 5.55 </td>\n",
       "   <td style=\"text-align:right;\"> 2951741 </td>\n",
       "   <td style=\"text-align:right;\"> 26.7 </td>\n",
       "   <td style=\"text-align:right;\"> 68.24505 </td>\n",
       "  </tr>\n",
       "</tbody>\n",
       "</table></div>"
      ]
     },
     "metadata": {},
     "output_type": "display_data"
    }
   ],
   "source": [
    "load_data_raw_preprocessed()"
   ]
  },
  {
   "cell_type": "markdown",
   "metadata": {
    "slideshow": {
     "slide_type": "slide"
    }
   },
   "source": [
    "## Preliminary Analysis\n",
    "* scaling: $\\frac{(x - mean(x))}{sd(x)}$\n",
    "* correlation matrix"
   ]
  },
  {
   "cell_type": "markdown",
   "metadata": {
    "slideshow": {
     "slide_type": "subslide"
    }
   },
   "source": [
    "![Correlation Matrix](./figs/correlation_matrix.svg)"
   ]
  },
  {
   "cell_type": "markdown",
   "metadata": {
    "slideshow": {
     "slide_type": "slide"
    }
   },
   "source": [
    "## What influences happiness?\n",
    "* Regression\n",
    "* PCA and Biplot\n",
    "* SOM\n",
    "* Happiness and Tabacco per Region "
   ]
  },
  {
   "cell_type": "markdown",
   "metadata": {
    "slideshow": {
     "slide_type": "slide"
    }
   },
   "source": [
    "### Regression\n",
    "* Full Model: R-squared of **0.8063**\n",
    "* multicollinearity\n",
    "* Small Model: R-squared of **0.7745**"
   ]
  },
  {
   "cell_type": "markdown",
   "metadata": {
    "slideshow": {
     "slide_type": "subslide"
    }
   },
   "source": [
    "![VIF Full Model](./figs/VIF_full_model.svg)"
   ]
  },
  {
   "cell_type": "markdown",
   "metadata": {
    "slideshow": {
     "slide_type": "subslide"
    }
   },
   "source": [
    "![VIF Small Model](./figs/VIF_small_model.svg)"
   ]
  },
  {
   "cell_type": "markdown",
   "metadata": {
    "slideshow": {
     "slide_type": "subslide"
    }
   },
   "source": [
    "![Significant Factors](./figs/significant_factors.svg)"
   ]
  },
  {
   "cell_type": "markdown",
   "metadata": {
    "slideshow": {
     "slide_type": "slide"
    }
   },
   "source": [
    "### PCA and Biplot\n",
    "\n",
    "PC1 explains 39.07 % of the variation and the coefficients are the following:\n",
    "\n",
    " $$PC1=-0.415*Economy+-0.397*Social+-0.395*Health+-0.174*Freedom+0.192*Corruption \\\\\n",
    " +0.115*Generosity+-0.182*Positive+0.317*Negative+0.132*Government+-0.289*Alcohol \\\\\n",
    " +0.069*Population+-0.164*Tobacco+-0.411*Internet$$\n",
    "\n",
    "PC2 explains 19.94% of the variation and the coefficients are the following:\n",
    " \n",
    "  $$PC2=0.059*Economy+0.014*Social+0.054*Health+-0.478*Freedom+0.388*Corruption \\\\\n",
    "  +-0.396*Generosity+-0.384*Positive+0.108*Negative+-0.467*Government+0.054*Alcohol \\\\\n",
    "  +-0.078*Population+0.246*Tobacco+0.103*Internet$$"
   ]
  },
  {
   "cell_type": "markdown",
   "metadata": {
    "slideshow": {
     "slide_type": "subslide"
    }
   },
   "source": [
    "![PCA](./figs/pca_legend_reverse.svg)"
   ]
  },
  {
   "cell_type": "markdown",
   "metadata": {
    "slideshow": {
     "slide_type": "subslide"
    }
   },
   "source": [
    "![Biplot](./figs/biplot_legend_reverse.svg)"
   ]
  },
  {
   "cell_type": "markdown",
   "metadata": {
    "slideshow": {
     "slide_type": "subslide"
    }
   },
   "source": [
    "![Outliers](./figs/outliers_uzb_ben.svg)"
   ]
  },
  {
   "cell_type": "markdown",
   "metadata": {
    "slideshow": {
     "slide_type": "slide"
    }
   },
   "source": [
    "### SOM"
   ]
  },
  {
   "cell_type": "markdown",
   "metadata": {
    "slideshow": {
     "slide_type": "subslide"
    }
   },
   "source": [
    "![SOM](./figs/SOM_scal_svg.svg)"
   ]
  },
  {
   "cell_type": "markdown",
   "metadata": {
    "slideshow": {
     "slide_type": "slide"
    }
   },
   "source": [
    "### Happiness and Tabacco per Region "
   ]
  },
  {
   "cell_type": "code",
   "execution_count": 12,
   "metadata": {
    "slideshow": {
     "slide_type": "subslide"
    }
   },
   "outputs": [
    {
     "data": {
      "text/html": [
       "<!doctype html>\n",
       "<html>\n",
       "\t<head>\n",
       "\t\t<meta charset=\"utf-8\">\n",
       "\t\t\n",
       "\t</head>\n",
       "\t<body>\n",
       "\t\t<iframe width=\"1600\" height=\"900\" src=\"./figs/happiness_region.html\"></iframe>\n",
       "\t</body>\n",
       "</html>\n"
      ],
      "text/plain": [
       "Shiny tags cannot be represented in plain text (need html)"
      ]
     },
     "metadata": {
      "text/html": {
       "isolated": true
      }
     },
     "output_type": "display_data"
    }
   ],
   "source": [
    "iframe(url_link='./figs/happiness_region.html', height = 900, width = 1600)"
   ]
  },
  {
   "cell_type": "code",
   "execution_count": 13,
   "metadata": {
    "slideshow": {
     "slide_type": "slide"
    },
    "tags": []
   },
   "outputs": [
    {
     "data": {
      "text/html": [
       "<!doctype html>\n",
       "<html>\n",
       "\t<head>\n",
       "\t\t<meta charset=\"utf-8\">\n",
       "\t\t\n",
       "\t</head>\n",
       "\t<body>\n",
       "\t\t<iframe width=\"1600\" height=\"900\" src=\"./figs/map.html\"></iframe>\n",
       "\t</body>\n",
       "</html>\n"
      ],
      "text/plain": [
       "Shiny tags cannot be represented in plain text (need html)"
      ]
     },
     "metadata": {
      "text/html": {
       "isolated": true
      }
     },
     "output_type": "display_data"
    }
   ],
   "source": [
    "iframe(url_link='./figs/map.html', height = 900, width = 1600)"
   ]
  },
  {
   "cell_type": "code",
   "execution_count": 65,
   "metadata": {
    "slideshow": {
     "slide_type": "slide"
    },
    "tags": []
   },
   "outputs": [
    {
     "data": {
      "text/html": [
       "<!doctype html>\n",
       "<html>\n",
       "\t<head>\n",
       "\t\t<meta charset=\"utf-8\">\n",
       "\t\t\n",
       "\t</head>\n",
       "\t<body>\n",
       "\t\t<iframe width=\"900\" height=\"500\" src=\"./figs/happy.gif\"></iframe>\n",
       "\t</body>\n",
       "</html>\n"
      ],
      "text/plain": [
       "Shiny tags cannot be represented in plain text (need html)"
      ]
     },
     "metadata": {
      "text/html": {
       "isolated": true
      }
     },
     "output_type": "display_data"
    }
   ],
   "source": [
    "iframe(url_link='./figs/happy.gif', height = 900, width = 1600)"
   ]
  },
  {
   "cell_type": "code",
   "execution_count": 5,
   "metadata": {
    "slideshow": {
     "slide_type": "slide"
    },
    "tags": []
   },
   "outputs": [
    {
     "data": {
      "text/html": [
       "\n",
       "        <iframe\n",
       "            width=\"1600\"\n",
       "            height=\"900\"\n",
       "            src=\"./figs/tobacco.html\"\n",
       "            frameborder=\"0\"\n",
       "            allowfullscreen\n",
       "        ></iframe>\n",
       "        "
      ],
      "text/plain": [
       "<IPython.lib.display.IFrame at 0x1c8957bcfc8>"
      ]
     },
     "execution_count": 5,
     "metadata": {},
     "output_type": "execute_result"
    }
   ],
   "source": [
    "iframe(url_link='./figs/tobacco.html', height = 900, width = 1600)"
   ]
  },
  {
   "cell_type": "markdown",
   "metadata": {
    "slideshow": {
     "slide_type": "slide"
    }
   },
   "source": [
    "# Future Work\n",
    "\n",
    "- Further research into tobacco consumption and relation to 'happiness'\n"
   ]
  }
 ],
 "metadata": {
  "celltoolbar": "Slideshow",
  "kernelspec": {
   "display_name": "R",
   "language": "R",
   "name": "ir"
  },
  "language_info": {
   "codemirror_mode": "r",
   "file_extension": ".r",
   "mimetype": "text/x-r-source",
   "name": "R",
   "pygments_lexer": "r",
   "version": "4.1.1"
  }
 },
 "nbformat": 4,
 "nbformat_minor": 4
}
